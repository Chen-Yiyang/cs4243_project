{
 "cells": [
  {
   "cell_type": "code",
   "execution_count": 6,
   "id": "e72376a8",
   "metadata": {},
   "outputs": [
    {
     "name": "stdout",
     "output_type": "stream",
     "text": [
      "Requirement already satisfied: Pillow==9.0.1 in /home/wei2912/.local/lib/python3.8/site-packages (from -r requirements.txt (line 1)) (9.0.1)\n",
      "Requirement already satisfied: pandas==1.4.1 in /home/wei2912/.local/lib/python3.8/site-packages (from -r requirements.txt (line 2)) (1.4.1)\n",
      "Requirement already satisfied: matplotlib==3.5.1 in /home/wei2912/.local/lib/python3.8/site-packages (from -r requirements.txt (line 3)) (3.5.1)\n",
      "Requirement already satisfied: requests==2.27.1 in /home/wei2912/.local/lib/python3.8/site-packages (from -r requirements.txt (line 4)) (2.27.1)\n",
      "Requirement already satisfied: scikit-image==0.19.2 in /home/wei2912/.local/lib/python3.8/site-packages (from -r requirements.txt (line 5)) (0.19.2)\n",
      "Requirement already satisfied: torch==1.11.0 in /home/wei2912/.local/lib/python3.8/site-packages (from -r requirements.txt (line 6)) (1.11.0)\n",
      "Requirement already satisfied: tqdm==4.63.0 in /home/wei2912/.local/lib/python3.8/site-packages (from -r requirements.txt (line 7)) (4.63.0)\n",
      "Requirement already satisfied: pytz>=2020.1 in /home/wei2912/.local/lib/python3.8/site-packages (from pandas==1.4.1->-r requirements.txt (line 2)) (2021.3)\n",
      "Requirement already satisfied: numpy>=1.18.5; platform_machine != \"aarch64\" and platform_machine != \"arm64\" and python_version < \"3.10\" in /home/wei2912/.local/lib/python3.8/site-packages (from pandas==1.4.1->-r requirements.txt (line 2)) (1.22.2)\n",
      "Requirement already satisfied: python-dateutil>=2.8.1 in /home/wei2912/.local/lib/python3.8/site-packages (from pandas==1.4.1->-r requirements.txt (line 2)) (2.8.2)\n",
      "Requirement already satisfied: cycler>=0.10 in /home/wei2912/.local/lib/python3.8/site-packages (from matplotlib==3.5.1->-r requirements.txt (line 3)) (0.11.0)\n",
      "Requirement already satisfied: fonttools>=4.22.0 in /home/wei2912/.local/lib/python3.8/site-packages (from matplotlib==3.5.1->-r requirements.txt (line 3)) (4.29.1)\n",
      "Requirement already satisfied: kiwisolver>=1.0.1 in /home/wei2912/.local/lib/python3.8/site-packages (from matplotlib==3.5.1->-r requirements.txt (line 3)) (1.3.2)\n",
      "Requirement already satisfied: pyparsing>=2.2.1 in /home/wei2912/.local/lib/python3.8/site-packages (from matplotlib==3.5.1->-r requirements.txt (line 3)) (3.0.6)\n",
      "Requirement already satisfied: packaging>=20.0 in /home/wei2912/.local/lib/python3.8/site-packages (from matplotlib==3.5.1->-r requirements.txt (line 3)) (21.3)\n",
      "Requirement already satisfied: idna<4,>=2.5; python_version >= \"3\" in /usr/lib/python3/dist-packages (from requests==2.27.1->-r requirements.txt (line 4)) (2.8)\n",
      "Requirement already satisfied: charset-normalizer~=2.0.0; python_version >= \"3\" in /home/wei2912/.local/lib/python3.8/site-packages (from requests==2.27.1->-r requirements.txt (line 4)) (2.0.12)\n",
      "Requirement already satisfied: certifi>=2017.4.17 in /usr/lib/python3/dist-packages (from requests==2.27.1->-r requirements.txt (line 4)) (2019.11.28)\n",
      "Requirement already satisfied: urllib3<1.27,>=1.21.1 in /usr/lib/python3/dist-packages (from requests==2.27.1->-r requirements.txt (line 4)) (1.25.8)\n",
      "Requirement already satisfied: PyWavelets>=1.1.1 in /home/wei2912/.local/lib/python3.8/site-packages (from scikit-image==0.19.2->-r requirements.txt (line 5)) (1.3.0)\n",
      "Requirement already satisfied: networkx>=2.2 in /home/wei2912/.local/lib/python3.8/site-packages (from scikit-image==0.19.2->-r requirements.txt (line 5)) (2.7.1)\n",
      "Requirement already satisfied: scipy>=1.4.1 in /home/wei2912/.local/lib/python3.8/site-packages (from scikit-image==0.19.2->-r requirements.txt (line 5)) (1.8.0)\n",
      "Requirement already satisfied: tifffile>=2019.7.26 in /home/wei2912/.local/lib/python3.8/site-packages (from scikit-image==0.19.2->-r requirements.txt (line 5)) (2022.2.9)\n",
      "Requirement already satisfied: imageio>=2.4.1 in /home/wei2912/.local/lib/python3.8/site-packages (from scikit-image==0.19.2->-r requirements.txt (line 5)) (2.16.1)\n",
      "Requirement already satisfied: typing-extensions in /home/wei2912/.local/lib/python3.8/site-packages (from torch==1.11.0->-r requirements.txt (line 6)) (4.0.1)\n",
      "Requirement already satisfied: six>=1.5 in /usr/lib/python3/dist-packages (from python-dateutil>=2.8.1->pandas==1.4.1->-r requirements.txt (line 2)) (1.14.0)\n"
     ]
    }
   ],
   "source": [
    "!pip install -r requirements.txt"
   ]
  },
  {
   "cell_type": "code",
   "execution_count": 1,
   "id": "0f08ef4c",
   "metadata": {},
   "outputs": [],
   "source": [
    "import requests\n",
    "import urllib\n",
    "import os\n",
    "import threading\n",
    "import pandas as pd\n",
    "import matplotlib.pyplot as plt"
   ]
  },
  {
   "cell_type": "markdown",
   "id": "bc30a487",
   "metadata": {},
   "source": [
    "# Get Data From API"
   ]
  },
  {
   "cell_type": "markdown",
   "id": "ac7fcd75",
   "metadata": {},
   "source": [
    "## Generic Info\n",
    "- How many breeds?\n",
    "- How many images for each breed?\n",
    "\n",
    "Save the information to a local file (`breeds.txt`) so that no need to request API next time"
   ]
  },
  {
   "cell_type": "code",
   "execution_count": 5,
   "id": "ef8314d7",
   "metadata": {},
   "outputs": [
    {
     "name": "stdout",
     "output_type": "stream",
     "text": [
      "Num of different (main) breeds: 95\n"
     ]
    }
   ],
   "source": [
    "req = requests.get(\"https://dog.ceo/api/breeds/list/all\")\n",
    "breeds_set = req.json()['message']\n",
    "breed_names = list(breeds_set.keys())\n",
    "\n",
    "print(\"Num of different (main) breeds:\", len(breed_names))\n",
    "\n",
    "breeds = []\n",
    "for i in range(len(breed_names)):\n",
    "    breed = breed_names[i]\n",
    "    req_str = \"https://dog.ceo/api/breed/{0}/images\".format(breed)\n",
    "    req = requests.get(req_str)\n",
    "\n",
    "    breeds.append((breed, len(req.json()['message'])))"
   ]
  },
  {
   "cell_type": "code",
   "execution_count": 6,
   "id": "9ee95bb8",
   "metadata": {},
   "outputs": [
    {
     "name": "stdout",
     "output_type": "stream",
     "text": [
      "('affenpinscher', 150)\n",
      "('african', 169)\n",
      "('airedale', 202)\n",
      "('akita', 9)\n",
      "('appenzeller', 151)\n"
     ]
    }
   ],
   "source": [
    "for i in range(5):\n",
    "    print(breeds[i])"
   ]
  },
  {
   "cell_type": "code",
   "execution_count": 12,
   "id": "7f6d5291",
   "metadata": {},
   "outputs": [],
   "source": [
    "# Save to file\n",
    "f = open(\"breeds.txt\", \"w\")\n",
    "f.write(\"breed,count\\n\")\n",
    "\n",
    "for i in range(len(breeds)):\n",
    "    line = \"{0},{1}\\n\".format(breeds[i][0], breeds[i][1])\n",
    "    f.write(line)\n",
    "\n",
    "f.close()"
   ]
  },
  {
   "cell_type": "markdown",
   "id": "4e1fb611",
   "metadata": {},
   "source": [
    "## Download Image Data\n",
    "There are 18k images for 95 breeds in total from the API.\n",
    "\n",
    "Since no limit on number of concurrent requests from the server, use multithreading for downloading the images. It should take a total of less than 5 mins.\n",
    "\n",
    "### Organisation of images downloaded:\n",
    "The data are downloaded to `./new_dog/[breed_name]/[breed_name]_xxx.jpg` where `[breed_name]` is the dog's breed and `xxx` is a 3-digit int from 000 to 999"
   ]
  },
  {
   "cell_type": "code",
   "execution_count": 2,
   "id": "4c2f5307",
   "metadata": {},
   "outputs": [],
   "source": [
    "def download_imgs(breeds):\n",
    "    img_count = 0\n",
    "\n",
    "    if not os.path.exists('new_dog'):\n",
    "        os.makedirs('new_dog')\n",
    "\n",
    "    start_down = False\n",
    "\n",
    "    for breed in breeds:\n",
    "        if breed == \"retriever\":\n",
    "            start_down = True\n",
    "\n",
    "        if not start_down:\n",
    "            continue\n",
    "\n",
    "        path_str = 'new_dog/' + breed\n",
    "        if not os.path.exists(path_str):\n",
    "            os.makedirs(path_str)\n",
    "\n",
    "        print(\"Start for breed\", breed)\n",
    "        req_str = \"https://dog.ceo/api/breed/{0}/images\".format(breed)\n",
    "        resp = requests.get(req_str).json()\n",
    "\n",
    "        img_sources = resp['message']\n",
    "        for i in range(len(img_sources)):\n",
    "\n",
    "            source = img_sources[i]\n",
    "            img_path = \"{0}/{1}_{2:03}.jpg\".format(path_str, breed, i)\n",
    "\n",
    "            #urllib.request.urlretrieve(source, img_path)\n",
    "            create_thread_for_download(source, img_path)\n",
    "\n",
    "            img_count += 1\n",
    "\n",
    "        print(\"Download all images for breed {0}.\".format(breed))\n",
    "\n",
    "    print(\"Success downloading all {0} images.\".format(img_count))\n",
    "\n",
    "\n",
    "# Use multithreading for download images\n",
    "def download_by_req(source, img_path):\n",
    "    urllib.request.urlretrieve(source, img_path)\n",
    "\n",
    "\n",
    "def create_thread_for_download(source, img_path):\n",
    "    download_thread = threading.Thread(target=download_by_req, args=(source, img_path))\n",
    "    download_thread.start()"
   ]
  },
  {
   "cell_type": "code",
   "execution_count": null,
   "id": "b15e3841",
   "metadata": {},
   "outputs": [],
   "source": [
    "download_imgs(breed_names)"
   ]
  },
  {
   "cell_type": "markdown",
   "id": "b9b4b606",
   "metadata": {},
   "source": [
    "# Understand data\n",
    "\n",
    "## TODO:\n",
    "- [ ] Choose the appropriate number of labels\n",
    "- [ ] Understand the different sizes of images"
   ]
  },
  {
   "cell_type": "code",
   "execution_count": 11,
   "id": "a6b13d01",
   "metadata": {},
   "outputs": [],
   "source": [
    "dogs = pd.read_csv(\"breeds.txt\", sep=\",\")"
   ]
  },
  {
   "cell_type": "code",
   "execution_count": 17,
   "id": "2e5a6a47",
   "metadata": {},
   "outputs": [
    {
     "name": "stdout",
     "output_type": "stream",
     "text": [
      "Total breed numbers: 95\n",
      "Total image numbers: 18225\n"
     ]
    }
   ],
   "source": [
    "# descriptive statistics:\n",
    "print(\"Total breed numbers:\", len(dogs))\n",
    "print(\"Total image numbers:\", dogs[\"count\"].sum())"
   ]
  },
  {
   "cell_type": "code",
   "execution_count": 5,
   "id": "a07fa23c",
   "metadata": {},
   "outputs": [
    {
     "data": {
      "image/png": "[encoded data removed]",
      "text/plain": [
       "<Figure size 432x288 with 1 Axes>"
      ]
     },
     "metadata": {
      "needs_background": "light"
     },
     "output_type": "display_data"
    }
   ],
   "source": [
    "plt.bar(dogs[\"breed\"], height=dogs[\"count\"])\n",
    "plt.show()"
   ]
  },
  {
   "cell_type": "code",
   "execution_count": 6,
   "id": "76f241f9",
   "metadata": {},
   "outputs": [],
   "source": [
    "dogs = dogs.sort_values(\"count\", ascending=0)"
   ]
  },
  {
   "cell_type": "code",
   "execution_count": 7,
   "id": "47bf09e9",
   "metadata": {},
   "outputs": [
    {
     "data": {
      "text/html": [
       "<div>\n",
       "<style scoped>\n",
       "    .dataframe tbody tr th:only-of-type {\n",
       "        vertical-align: middle;\n",
       "    }\n",
       "\n",
       "    .dataframe tbody tr th {\n",
       "        vertical-align: top;\n",
       "    }\n",
       "\n",
       "    .dataframe thead th {\n",
       "        text-align: right;\n",
       "    }\n",
       "</style>\n",
       "<table border=\"1\" class=\"dataframe\">\n",
       "  <thead>\n",
       "    <tr style=\"text-align: right;\">\n",
       "      <th></th>\n",
       "      <th>breed</th>\n",
       "      <th>count</th>\n",
       "    </tr>\n",
       "  </thead>\n",
       "  <tbody>\n",
       "    <tr>\n",
       "      <th>88</th>\n",
       "      <td>terrier</td>\n",
       "      <td>1000</td>\n",
       "    </tr>\n",
       "    <tr>\n",
       "      <th>85</th>\n",
       "      <td>spaniel</td>\n",
       "      <td>1000</td>\n",
       "    </tr>\n",
       "    <tr>\n",
       "      <th>42</th>\n",
       "      <td>hound</td>\n",
       "      <td>1000</td>\n",
       "    </tr>\n",
       "    <tr>\n",
       "      <th>74</th>\n",
       "      <td>retriever</td>\n",
       "      <td>639</td>\n",
       "    </tr>\n",
       "    <tr>\n",
       "      <th>81</th>\n",
       "      <td>setter</td>\n",
       "      <td>471</td>\n",
       "    </tr>\n",
       "    <tr>\n",
       "      <th>69</th>\n",
       "      <td>poodle</td>\n",
       "      <td>471</td>\n",
       "    </tr>\n",
       "    <tr>\n",
       "      <th>80</th>\n",
       "      <td>schnauzer</td>\n",
       "      <td>466</td>\n",
       "    </tr>\n",
       "    <tr>\n",
       "      <th>58</th>\n",
       "      <td>mountain</td>\n",
       "      <td>387</td>\n",
       "    </tr>\n",
       "    <tr>\n",
       "      <th>15</th>\n",
       "      <td>bulldog</td>\n",
       "      <td>350</td>\n",
       "    </tr>\n",
       "    <tr>\n",
       "      <th>82</th>\n",
       "      <td>sheepdog</td>\n",
       "      <td>328</td>\n",
       "    </tr>\n",
       "    <tr>\n",
       "      <th>55</th>\n",
       "      <td>mastiff</td>\n",
       "      <td>312</td>\n",
       "    </tr>\n",
       "    <tr>\n",
       "      <th>22</th>\n",
       "      <td>collie</td>\n",
       "      <td>310</td>\n",
       "    </tr>\n",
       "    <tr>\n",
       "      <th>54</th>\n",
       "      <td>maltese</td>\n",
       "      <td>253</td>\n",
       "    </tr>\n",
       "    <tr>\n",
       "      <th>70</th>\n",
       "      <td>pug</td>\n",
       "      <td>238</td>\n",
       "    </tr>\n",
       "    <tr>\n",
       "      <th>29</th>\n",
       "      <td>deerhound</td>\n",
       "      <td>232</td>\n",
       "    </tr>\n",
       "    <tr>\n",
       "      <th>68</th>\n",
       "      <td>pomeranian</td>\n",
       "      <td>223</td>\n",
       "    </tr>\n",
       "    <tr>\n",
       "      <th>72</th>\n",
       "      <td>pyrenees</td>\n",
       "      <td>220</td>\n",
       "    </tr>\n",
       "    <tr>\n",
       "      <th>78</th>\n",
       "      <td>samoyed</td>\n",
       "      <td>219</td>\n",
       "    </tr>\n",
       "    <tr>\n",
       "      <th>94</th>\n",
       "      <td>wolfhound</td>\n",
       "      <td>218</td>\n",
       "    </tr>\n",
       "    <tr>\n",
       "      <th>84</th>\n",
       "      <td>shihtzu</td>\n",
       "      <td>215</td>\n",
       "    </tr>\n",
       "  </tbody>\n",
       "</table>\n",
       "</div>"
      ],
      "text/plain": [
       "         breed  count\n",
       "88     terrier   1000\n",
       "85     spaniel   1000\n",
       "42       hound   1000\n",
       "74   retriever    639\n",
       "81      setter    471\n",
       "69      poodle    471\n",
       "80   schnauzer    466\n",
       "58    mountain    387\n",
       "15     bulldog    350\n",
       "82    sheepdog    328\n",
       "55     mastiff    312\n",
       "22      collie    310\n",
       "54     maltese    253\n",
       "70         pug    238\n",
       "29   deerhound    232\n",
       "68  pomeranian    223\n",
       "72    pyrenees    220\n",
       "78     samoyed    219\n",
       "94   wolfhound    218\n",
       "84     shihtzu    215"
      ]
     },
     "execution_count": 7,
     "metadata": {},
     "output_type": "execute_result"
    }
   ],
   "source": [
    "dogs.head(20)"
   ]
  },
  {
   "cell_type": "code",
   "execution_count": 8,
   "id": "6c594cc3",
   "metadata": {},
   "outputs": [
    {
     "name": "stdout",
     "output_type": "stream",
     "text": [
      "Consider the first k labels(breeds) with most number of images:\n"
     ]
    },
    {
     "data": {
      "image/png": "[encoded data removed]",
      "text/plain": [
       "<Figure size 432x288 with 1 Axes>"
      ]
     },
     "metadata": {
      "needs_background": "light"
     },
     "output_type": "display_data"
    },
    {
     "data": {
      "image/png": "[encoded data removed]",
      "text/plain": [
       "<Figure size 432x288 with 1 Axes>"
      ]
     },
     "metadata": {
      "needs_background": "light"
     },
     "output_type": "display_data"
    },
    {
     "data": {
      "image/png": "[encoded data removed]",
      "text/plain": [
       "<Figure size 432x288 with 1 Axes>"
      ]
     },
     "metadata": {
      "needs_background": "light"
     },
     "output_type": "display_data"
    }
   ],
   "source": [
    "first_x = [*range(0,40,2)]\n",
    "\n",
    "cummu_sum = [dogs[\"count\"][:x].sum() for x in first_x]\n",
    "cummu_sd = [dogs[\"count\"][:x].std() for x in first_x]\n",
    "cummu_mean = [dogs[\"count\"][:x].mean() for x in first_x]\n",
    "\n",
    "print(\"Consider the first k labels(breeds) with most number of images:\")\n",
    "\n",
    "fig, ax = plt.subplots()\n",
    "ax.set_ylabel('total image nums')\n",
    "ax.set_xlabel('labels')\n",
    "plt.bar(first_x, cummu_sum)\n",
    "\n",
    "\n",
    "fig, ax = plt.subplots()\n",
    "ax.set_ylabel('std')\n",
    "ax.set_xlabel('labels')\n",
    "plt.bar(first_x, cummu_sd)\n",
    "\n",
    "fig, ax = plt.subplots()\n",
    "ax.set_ylabel('mean num per label')\n",
    "ax.set_xlabel('labels')\n",
    "plt.bar(first_x, cummu_mean)\n",
    "\n",
    "\n",
    "plt.show()"
   ]
  },
  {
   "cell_type": "code",
   "execution_count": null,
   "id": "a3797df5",
   "metadata": {},
   "outputs": [],
   "source": []
  },
  {
   "cell_type": "code",
   "execution_count": null,
   "id": "825ff0f4",
   "metadata": {},
   "outputs": [],
   "source": []
  }
 ],
 "metadata": {
  "kernelspec": {
   "display_name": "Python 3 (ipykernel)",
   "language": "python",
   "name": "python3"
  },
  "language_info": {
   "codemirror_mode": {
    "name": "ipython",
    "version": 3
   },
   "file_extension": ".py",
   "mimetype": "text/x-python",
   "name": "python",
   "nbconvert_exporter": "python",
   "pygments_lexer": "ipython3",
   "version": "3.8.10"
  }
 },
 "nbformat": 4,
 "nbformat_minor": 5
}
