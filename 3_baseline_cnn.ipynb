{
 "cells": [
  {
   "cell_type": "code",
   "execution_count": 1,
   "id": "14b6c920",
   "metadata": {},
   "outputs": [
    {
     "name": "stdout",
     "output_type": "stream",
     "text": [
      "Note: you may need to restart the kernel to use updated packages.\n"
     ]
    }
   ],
   "source": [
    "if \"google.colab\" in str(get_ipython()):\n",
    "    from google.colab import drive\n",
    "    import os\n",
    "    drive.mount(\"/content/gdrive\")\n",
    "    os.chdir(\"/content/gdrive/My Drive/CS4243 Project/temp\")\n",
    "    !pwd\n",
    "    %pip install -q ipywidgets\n",
    "    %pip install -q -r requirements_colab.txt\n",
    "else:\n",
    "    %pip install -q -r requirements.txt\n",
    "\n",
    "# may need to restart the kernel after installing new packages"
   ]
  },
  {
   "cell_type": "markdown",
   "id": "dc216220",
   "metadata": {},
   "source": [
    "# Baseline (Convolutional Neural Network)"
   ]
  },
  {
   "cell_type": "code",
   "execution_count": 2,
   "id": "70814c94",
   "metadata": {},
   "outputs": [],
   "source": [
    "%reset\n",
    "\n",
    "import torch\n",
    "import torch.nn as nn\n",
    "\n",
    "import time\n",
    "\n",
    "import numpy as np\n",
    "import matplotlib.pyplot as plt"
   ]
  },
  {
   "cell_type": "code",
   "execution_count": 6,
   "id": "434674a9",
   "metadata": {},
   "outputs": [
    {
     "data": {
      "text/plain": [
       "(torch.Size([5152, 3, 64, 64]), 'torch.FloatTensor', torch.Size([5152]))"
      ]
     },
     "execution_count": 6,
     "metadata": {},
     "output_type": "execute_result"
    }
   ],
   "source": [
    "from utils import load_tensor\n",
    "\n",
    "train_unaug_x, train_unaug_y = load_tensor(\"unaug\", \"64\")\n",
    "test_x, test_y = load_tensor(\"test\", \"64\")\n",
    "\n",
    "train_unaug_x.size(), train_unaug_x.type(), train_unaug_y.size()"
   ]
  },
  {
   "cell_type": "code",
   "execution_count": 7,
   "id": "a5e341af",
   "metadata": {},
   "outputs": [
    {
     "data": {
      "image/png": "[encoded data removed]",
      "text/plain": [
       "<Figure size 432x288 with 1 Axes>"
      ]
     },
     "metadata": {
      "needs_background": "light"
     },
     "output_type": "display_data"
    }
   ],
   "source": [
    "from utils import display_num_param, show, get_error\n",
    "\n",
    "show(train_unaug_x[100])"
   ]
  },
  {
   "cell_type": "code",
   "execution_count": 8,
   "id": "a264838b",
   "metadata": {},
   "outputs": [],
   "source": [
    "def eval_on_test_set():\n",
    "\n",
    "    test_size = test_x.size(0)\n",
    "    running_error = 0\n",
    "    num_batches = 0\n",
    "\n",
    "    y_pred = []\n",
    "    y_true = []\n",
    "\n",
    "    for i in range(0,(test_size//bs)*bs, bs):\n",
    "\n",
    "        minibatch_data =  test_x[i:i+bs]\n",
    "        minibatch_label= test_y[i:i+bs]\n",
    "\n",
    "        minibatch_data=minibatch_data.to(device)\n",
    "        minibatch_label=minibatch_label.to(device)\n",
    "\n",
    "        inputs = (minibatch_data - mean)/std\n",
    "\n",
    "        scores = net(inputs) \n",
    "\n",
    "        error = get_error(scores, minibatch_label)\n",
    "\n",
    "        labels = scores.argmax(dim=1)\n",
    "\n",
    "        y_pred.extend(labels.tolist())\n",
    "        y_true.extend(minibatch_label.tolist())\n",
    "        \n",
    "\n",
    "        running_error += error.item()\n",
    "\n",
    "        num_batches += 1\n",
    "\n",
    "    total_error = running_error/num_batches\n",
    "    print( 'test error  = ', total_error*100 , 'percent')\n",
    "    return total_error, y_pred, y_true\n"
   ]
  },
  {
   "cell_type": "markdown",
   "id": "6c715f5b",
   "metadata": {},
   "source": [
    "## Build CNN\n",
    "\n",
    "A VGG-liked CNN Structure"
   ]
  },
  {
   "cell_type": "code",
   "execution_count": 9,
   "id": "e8abd832",
   "metadata": {},
   "outputs": [],
   "source": [
    "class VGG_convnet(nn.Module):\n",
    "\n",
    "    def __init__(self):\n",
    "\n",
    "        super(VGG_convnet, self).__init__()\n",
    "\n",
    "        # block 1:         3 x 64 x 64 --> 64 x 32 x 32        \n",
    "        self.conv1a = nn.Conv2d(3,   64,  kernel_size=3, padding=1)\n",
    "        self.conv1b = nn.Conv2d(64,  64,  kernel_size=3, padding=1)\n",
    "        self.pool1  = nn.MaxPool2d(2,2)\n",
    "\n",
    "        # block 2:         64 x 32 x 32 --> 128 x 16 x 16\n",
    "        self.conv2a = nn.Conv2d(64,  128, kernel_size=3, padding=1)\n",
    "        self.conv2b = nn.Conv2d(128, 128, kernel_size=3, padding=1)\n",
    "        self.pool2  = nn.MaxPool2d(2,2)\n",
    "\n",
    "        # block 3:         128 x 16 x 16 --> 256 x 8 x 8        \n",
    "        self.conv3a = nn.Conv2d(128, 256, kernel_size=3, padding=1)\n",
    "        self.conv3b = nn.Conv2d(256, 256, kernel_size=3, padding=1)\n",
    "        self.pool3  = nn.MaxPool2d(2,2)\n",
    "        \n",
    "        #block 4:          256 x 8 x 8 --> 512 x 4 x 4\n",
    "        self.conv4a = nn.Conv2d(256, 512, kernel_size=3, padding=1)\n",
    "        self.pool4  = nn.MaxPool2d(2,2)\n",
    "\n",
    "        #block 5:          512 x 4 x 4 --> 512 x 2 x 2\n",
    "        self.conv5a = nn.Conv2d(512, 512, kernel_size=3, padding=1)\n",
    "        self.pool5  = nn.MaxPool2d(2,2)\n",
    "\n",
    "        # linear layers:   512 x 2 x 2 --> 2048 --> 4096 --> 4096 --> 10\n",
    "        self.linear1 = nn.Linear(2048, 4096)\n",
    "        self.linear2 = nn.Linear(4096, 4096)\n",
    "        self.linear3 = nn.Linear(4096, 10)\n",
    "\n",
    "        # dropout layer\n",
    "        self.dropout = nn.Dropout(0.25)\n",
    "    \n",
    "\n",
    "    # hook for the gradients of the activations\n",
    "    def activations_hook(self, grad):\n",
    "        self.gradients = grad\n",
    "    \n",
    "    # method for the gradient extraction\n",
    "    def get_activations_gradient(self):\n",
    "        return self.gradients\n",
    "    \n",
    "    # method for the activation exctraction\n",
    "    def get_activations(self, x):\n",
    "        return self.features_conv(x)\n",
    "\n",
    "\n",
    "    # take out the conv layers for feature extraction\n",
    "    def features_conv(self, x):\n",
    "        x = self.conv1a(x)\n",
    "        x = torch.relu(x)\n",
    "        x = self.conv1b(x)\n",
    "        x = torch.relu(x)\n",
    "        x = self.pool1(x)\n",
    "        x = self.dropout(x)\n",
    "\n",
    "        x = self.conv2a(x)\n",
    "        x = torch.relu(x)\n",
    "        x = self.conv2b(x)\n",
    "        x = torch.relu(x)\n",
    "        x = self.pool2(x)\n",
    "        x = self.dropout(x)\n",
    "\n",
    "        x = self.conv3a(x)\n",
    "        x = torch.relu(x)\n",
    "        x = self.conv3b(x)\n",
    "        x = torch.relu(x)\n",
    "        x = self.pool3(x)\n",
    "\n",
    "        x = self.conv4a(x)\n",
    "\n",
    "        return x\n",
    "\n",
    "\n",
    "    def forward(self, x, is_need_hook=False):\n",
    "\n",
    "        x = self.features_conv(x)\n",
    "        # remaining of blocks\n",
    "        x = torch.relu(x)\n",
    "        x = self.pool4(x)\n",
    "\n",
    "        x = self.conv5a(x) \n",
    "        x = torch.relu(x)\n",
    "        x = self.pool5(x)\n",
    "        x = self.dropout(x)\n",
    "\n",
    "\n",
    "\n",
    "        # Apply hook\n",
    "        if is_need_hook:\n",
    "            h = x.register_hook(self.activations_hook)\n",
    "\n",
    "\n",
    "        x = x.contiguous()\n",
    "        x = x.view(-1, 2048)\n",
    "        x = self.linear1(x)\n",
    "        x = torch.relu(x)\n",
    "        x = self.dropout(x)\n",
    "        x = self.linear2(x)\n",
    "        x = torch.relu(x)\n",
    "        x = self.linear3(x) \n",
    "        \n",
    "        return x\n"
   ]
  },
  {
   "cell_type": "markdown",
   "id": "258ab523",
   "metadata": {},
   "source": [
    "## A larger network"
   ]
  },
  {
   "cell_type": "code",
   "execution_count": 10,
   "id": "4f58e7de",
   "metadata": {},
   "outputs": [],
   "source": [
    "class VGG_convnet_large(nn.Module):\n",
    "\n",
    "    def __init__(self):\n",
    "\n",
    "        super(VGG_convnet_large, self).__init__()\n",
    "\n",
    "        # block 1:         3 x 128 x 128 --> 64 x 64 x 64        \n",
    "        self.conv1a = nn.Conv2d(3,   64,  kernel_size=3, padding=1)\n",
    "        self.conv1b = nn.Conv2d(64,  64,  kernel_size=3, padding=1)\n",
    "        self.pool1  = nn.MaxPool2d(2,2)\n",
    "\n",
    "        # block 2:         64 x 64 x 64 --> 128 x 32 x 32\n",
    "        self.conv2a = nn.Conv2d(64,  128, kernel_size=3, padding=1)\n",
    "        self.conv2b = nn.Conv2d(128, 128, kernel_size=3, padding=1)\n",
    "        self.pool2  = nn.MaxPool2d(2,2)\n",
    "\n",
    "        # block 3:         128 x 32 x 32 --> 256 x 16 x 16        \n",
    "        self.conv3a = nn.Conv2d(128, 256, kernel_size=3, padding=1)\n",
    "        self.conv3b = nn.Conv2d(256, 256, kernel_size=3, padding=1)\n",
    "        self.pool3  = nn.MaxPool2d(2,2)\n",
    "        \n",
    "        #block 4:          256 x 16 x 16 --> 512 x 8 x 8\n",
    "        self.conv4a = nn.Conv2d(256, 512, kernel_size=3, padding=1)\n",
    "        self.pool4  = nn.MaxPool2d(2,2)\n",
    "\n",
    "        #block 5:          512 x 8 x 8 --> 512 x 4 x 4\n",
    "        self.conv5a = nn.Conv2d(512, 512, kernel_size=3, padding=1)\n",
    "        self.pool5  = nn.MaxPool2d(2,2)\n",
    "\n",
    "        self.linear1 = nn.Linear(512*4*4, 4096)\n",
    "        self.linear2 = nn.Linear(4096, 4096)\n",
    "        self.linear3 = nn.Linear(4096, 10)\n",
    "\n",
    "        # dropout layer\n",
    "        self.dropout = nn.Dropout(0.25)\n",
    "\n",
    "\n",
    "    def forward(self, x):\n",
    "\n",
    "        x = self.conv1a(x)\n",
    "        x = torch.relu(x)\n",
    "        x = self.conv1b(x)\n",
    "        x = torch.relu(x)\n",
    "        x = self.pool1(x)\n",
    "        # x = self.dropout(x)\n",
    "\n",
    "        x = self.conv2a(x)\n",
    "        x = torch.relu(x)\n",
    "        x = self.conv2b(x)\n",
    "        x = torch.relu(x)\n",
    "        x = self.pool2(x)\n",
    "        # x = self.dropout(x)\n",
    "\n",
    "        x = self.conv3a(x)\n",
    "        x = torch.relu(x)\n",
    "        x = self.conv3b(x)\n",
    "        x = torch.relu(x)\n",
    "        x = self.pool3(x)\n",
    "\n",
    "        x = self.conv4a(x)\n",
    "        x = torch.relu(x)\n",
    "        x = self.pool4(x)\n",
    "\n",
    "        x = self.conv5a(x)\n",
    "        x = torch.relu(x)\n",
    "        x = self.pool5(x)\n",
    "        # x = self.dropout(x)\n",
    "\n",
    "        x = x.contiguous()\n",
    "        x = x.view(-1, 512*4*4)\n",
    "        x = self.linear1(x)\n",
    "        x = torch.relu(x)\n",
    "        # x = self.dropout(x)\n",
    "        x = self.linear2(x)\n",
    "        x = torch.relu(x)\n",
    "        x = self.linear3(x) \n",
    "        \n",
    "        return x\n"
   ]
  },
  {
   "cell_type": "markdown",
   "id": "4f8e0262",
   "metadata": {},
   "source": [
    "Try to implement a baseline Efficient Net (EfficientNet-B0) network"
   ]
  },
  {
   "cell_type": "code",
   "execution_count": 11,
   "id": "c4fda187",
   "metadata": {},
   "outputs": [],
   "source": [
    "class EfficientNet(nn.Module):\n",
    "    def __init__(self):\n",
    "        super(EfficientNet, self).__init__()\n",
    "        self.EfficientNetB4 = torchvision.models.efficientnet_b4(pretrained=False)\n",
    "        self.EfficientNetB4 = self.EfficientNetB4.train()\n",
    "        self.linear1 = nn.Linear(1000, 10)\n",
    "    \n",
    "    def forward(self, x):\n",
    "        x = self.EfficientNetB4(x)\n",
    "        x = nn.ReLU()(x)\n",
    "        x = self.linear1(x)\n",
    "        return x"
   ]
  },
  {
   "cell_type": "markdown",
   "id": "32551c02",
   "metadata": {},
   "source": [
    "## Create Net instance"
   ]
  },
  {
   "cell_type": "code",
   "execution_count": 12,
   "id": "ef44182b",
   "metadata": {},
   "outputs": [
    {
     "name": "stdout",
     "output_type": "stream",
     "text": [
      "VGG_convnet(\n",
      "  (conv1a): Conv2d(3, 64, kernel_size=(3, 3), stride=(1, 1), padding=(1, 1))\n",
      "  (conv1b): Conv2d(64, 64, kernel_size=(3, 3), stride=(1, 1), padding=(1, 1))\n",
      "  (pool1): MaxPool2d(kernel_size=2, stride=2, padding=0, dilation=1, ceil_mode=False)\n",
      "  (conv2a): Conv2d(64, 128, kernel_size=(3, 3), stride=(1, 1), padding=(1, 1))\n",
      "  (conv2b): Conv2d(128, 128, kernel_size=(3, 3), stride=(1, 1), padding=(1, 1))\n",
      "  (pool2): MaxPool2d(kernel_size=2, stride=2, padding=0, dilation=1, ceil_mode=False)\n",
      "  (conv3a): Conv2d(128, 256, kernel_size=(3, 3), stride=(1, 1), padding=(1, 1))\n",
      "  (conv3b): Conv2d(256, 256, kernel_size=(3, 3), stride=(1, 1), padding=(1, 1))\n",
      "  (pool3): MaxPool2d(kernel_size=2, stride=2, padding=0, dilation=1, ceil_mode=False)\n",
      "  (conv4a): Conv2d(256, 512, kernel_size=(3, 3), stride=(1, 1), padding=(1, 1))\n",
      "  (pool4): MaxPool2d(kernel_size=2, stride=2, padding=0, dilation=1, ceil_mode=False)\n",
      "  (conv5a): Conv2d(512, 512, kernel_size=(3, 3), stride=(1, 1), padding=(1, 1))\n",
      "  (pool5): MaxPool2d(kernel_size=2, stride=2, padding=0, dilation=1, ceil_mode=False)\n",
      "  (linear1): Linear(in_features=2048, out_features=4096, bias=True)\n",
      "  (linear2): Linear(in_features=4096, out_features=4096, bias=True)\n",
      "  (linear3): Linear(in_features=4096, out_features=10, bias=True)\n",
      "  (dropout): Dropout(p=0.25, inplace=False)\n",
      ")\n",
      "There are 29900362 (29.90 million) parameters in this neural network\n"
     ]
    }
   ],
   "source": [
    "# net = EfficientNet()\n",
    "net = VGG_convnet()\n",
    "print(net)\n",
    "display_num_param(net)\n",
    "# print(net.EfficientNetB4)"
   ]
  },
  {
   "cell_type": "code",
   "execution_count": 13,
   "id": "700876f4",
   "metadata": {},
   "outputs": [
    {
     "name": "stdout",
     "output_type": "stream",
     "text": [
      "cuda\n"
     ]
    }
   ],
   "source": [
    "device= torch.device(\"cuda\")\n",
    "#device= torch.device(\"cpu\")\n",
    "print(device)"
   ]
  },
  {
   "cell_type": "code",
   "execution_count": 14,
   "id": "3b0d42f4",
   "metadata": {},
   "outputs": [
    {
     "data": {
      "text/plain": [
       "(tensor(0.4393), tensor(0.2521))"
      ]
     },
     "execution_count": 14,
     "metadata": {},
     "output_type": "execute_result"
    }
   ],
   "source": [
    "mean = train_unaug_x.mean()\n",
    "std = train_unaug_x.std()\n",
    "\n",
    "mean, std"
   ]
  },
  {
   "cell_type": "code",
   "execution_count": 15,
   "id": "c81b65be",
   "metadata": {},
   "outputs": [],
   "source": [
    "net = net.to(device)\n",
    "mean = mean.to(device)\n",
    "std = std.to(device)"
   ]
  },
  {
   "cell_type": "markdown",
   "id": "5e2c6c44",
   "metadata": {},
   "source": [
    "## Define Early Stopping function"
   ]
  },
  {
   "cell_type": "code",
   "execution_count": 14,
   "id": "054343a2",
   "metadata": {},
   "outputs": [],
   "source": [
    "class EarlyStopping:\n",
    "    def __init__(self, patience=7, verbose=False, delta=0, path='checkpoints/checkpoint.pt', trace_func=print):\n",
    "        \"\"\"\n",
    "        Args:\n",
    "            patience (int): How long to wait after last time test error improved.\n",
    "            verbose (bool): If True, prints a message for each test error improvement. \n",
    "            delta (float): Minimum change in the monitored quantity to qualify as an improvement.\n",
    "            path (str): Path for the checkpoint to be saved to.\n",
    "            trace_func (function): trace print function.        \n",
    "        \"\"\"\n",
    "        self.patience = patience\n",
    "        self.verbose = verbose\n",
    "        self.counter = 0\n",
    "        self.best_score = None\n",
    "        self.early_stop = False\n",
    "        self.test_err_min = np.Inf\n",
    "        self.delta = delta\n",
    "        self.path = path\n",
    "        self.trace_func = trace_func\n",
    "        \n",
    "    def __call__(self, test_err, model):\n",
    "\n",
    "        score = -test_err\n",
    "\n",
    "        if self.best_score is None:\n",
    "            self.best_score = score\n",
    "            self.save_checkpoint(test_err, model)\n",
    "        elif score < self.best_score + self.delta:\n",
    "            self.counter += 1\n",
    "            self.trace_func(f'EarlyStopping counter: {self.counter} out of {self.patience}')\n",
    "            self.trace_func(f'Current Best Accuracy: {1 + self.best_score}')\n",
    "            if self.counter >= self.patience:\n",
    "                self.early_stop = True\n",
    "        else:\n",
    "            self.best_score = score\n",
    "            self.save_checkpoint(test_err, model)\n",
    "            self.counter = 0\n",
    "\n",
    "    def save_checkpoint(self, test_err, model):\n",
    "        if self.verbose:\n",
    "            self.trace_func(f'Test error decreased ({self.test_err_min:.6f} --> {test_err:.6f}). Saving model...')\n",
    "        torch.save(model.state_dict(), self.path)\n",
    "        self.test_err_min = test_err"
   ]
  },
  {
   "cell_type": "markdown",
   "id": "ecbf6046",
   "metadata": {},
   "source": [
    "## Define Hyper-parameters"
   ]
  },
  {
   "cell_type": "code",
   "execution_count": 18,
   "id": "231ddcf6",
   "metadata": {},
   "outputs": [],
   "source": [
    "from cutmix.utils import CutMixCrossEntropyLoss\n",
    "\n",
    "criterion = nn.CrossEntropyLoss()\n",
    "# criterion = CutMixCrossEntropyLoss(True)\n",
    "optimizer=torch.optim.AdamW(net.parameters(), lr=1e-4)\n",
    "bs = 25\n",
    "test_bs = 8\n",
    "patience = 12\n",
    "epochs = 100"
   ]
  },
  {
   "cell_type": "markdown",
   "id": "72d1ef46",
   "metadata": {},
   "source": [
    "## Training"
   ]
  },
  {
   "cell_type": "code",
   "execution_count": 16,
   "id": "bc6de967",
   "metadata": {},
   "outputs": [
    {
     "name": "stdout",
     "output_type": "stream",
     "text": [
      "epoch= 0 \t time= 13.944353580474854 \t loss= 2.1365044574135714 \t error= 82.40776782475628 percent\n",
      "test error  =  84.00000171227889 percent\n",
      " \n",
      "Test error decreased (inf --> 0.840000). Saving model...\n",
      "epoch= 1 \t time= 28.30366039276123 \t loss= 2.102777067897389 \t error= 82.34951542419138 percent\n",
      "test error  =  78.90909232876517 percent\n",
      " \n",
      "Test error decreased (0.840000 --> 0.789091). Saving model...\n",
      "epoch= 2 \t time= 42.20223569869995 \t loss= 2.06496188536431 \t error= 79.68932152951805 percent\n",
      "test error  =  77.45454636487094 percent\n",
      " \n",
      "Test error decreased (0.789091 --> 0.774545). Saving model...\n",
      "epoch= 3 \t time= 57.47347450256348 \t loss= 2.014055537946016 \t error= 75.24271945930222 percent\n",
      "test error  =  76.72727378931913 percent\n",
      " \n",
      "Test error decreased (0.774545 --> 0.767273). Saving model...\n",
      "epoch= 4 \t time= 71.41422009468079 \t loss= 1.9820503864473509 \t error= 73.80582646837513 percent\n",
      "test error  =  72.54545498978008 percent\n",
      " \n",
      "Test error decreased (0.767273 --> 0.725455). Saving model...\n",
      "epoch= 5 \t time= 85.30282139778137 \t loss= 1.929573965882792 \t error= 70.95145713357091 percent\n",
      "test error  =  72.18181870200418 percent\n",
      " \n",
      "Test error decreased (0.725455 --> 0.721818). Saving model...\n",
      "epoch= 6 \t time= 97.6230137348175 \t loss= 1.8807836174964905 \t error= 68.71844741325934 percent\n",
      "test error  =  66.181819005446 percent\n",
      " \n",
      "Test error decreased (0.721818 --> 0.661818). Saving model...\n",
      "epoch= 7 \t time= 110.12439632415771 \t loss= 1.8142900970375653 \t error= 65.55339882096041 percent\n",
      "test error  =  66.72727357257496 percent\n",
      " \n",
      "EarlyStopping counter: 1 out of 12\n",
      "Current Best Accuracy: 0.33818180994554004\n",
      "epoch= 8 \t time= 122.20835185050964 \t loss= 1.7367355267978408 \t error= 62.69902974656485 percent\n",
      "test error  =  65.8181832595305 percent\n",
      " \n",
      "Test error decreased (0.661818 --> 0.658182). Saving model...\n",
      "epoch= 9 \t time= 135.91174030303955 \t loss= 1.6600900888442993 \t error= 59.262136377177185 percent\n",
      "test error  =  65.27272760868073 percent\n",
      " \n",
      "Test error decreased (0.658182 --> 0.652727). Saving model...\n",
      "epoch= 10 \t time= 149.99101400375366 \t loss= 1.5494123836165492 \t error= 55.32038865737545 percent\n",
      "test error  =  66.1818184635856 percent\n",
      " \n",
      "EarlyStopping counter: 1 out of 12\n",
      "Current Best Accuracy: 0.34727272391319275\n",
      "epoch= 11 \t time= 162.4521403312683 \t loss= 1.4193978451409386 \t error= 50.83495225142507 percent\n",
      "test error  =  65.45454561710358 percent\n",
      " \n",
      "EarlyStopping counter: 2 out of 12\n",
      "Current Best Accuracy: 0.34727272391319275\n",
      "epoch= 12 \t time= 175.00171852111816 \t loss= 1.2967621678287544 \t error= 45.922331005624194 percent\n",
      "test error  =  64.1818190162832 percent\n",
      " \n",
      "Test error decreased (0.652727 --> 0.641818). Saving model...\n",
      "epoch= 13 \t time= 189.3868329524994 \t loss= 1.0749183945285463 \t error= 37.96116622906286 percent\n",
      "test error  =  66.90909212285821 percent\n",
      " \n",
      "EarlyStopping counter: 1 out of 12\n",
      "Current Best Accuracy: 0.35818180983716796\n",
      "epoch= 14 \t time= 201.90800523757935 \t loss= 0.8751340313877874 \t error= 30.097089230435564 percent\n",
      "test error  =  68.36363673210144 percent\n",
      " \n",
      "EarlyStopping counter: 2 out of 12\n",
      "Current Best Accuracy: 0.35818180983716796\n",
      "epoch= 15 \t time= 214.34993743896484 \t loss= 0.6545202022472631 \t error= 23.029128353572588 percent\n",
      "test error  =  66.5454552932219 percent\n",
      " \n",
      "EarlyStopping counter: 3 out of 12\n",
      "Current Best Accuracy: 0.35818180983716796\n",
      "epoch= 16 \t time= 226.71397709846497 \t loss= 0.4925627128302472 \t error= 16.5631092867805 percent\n",
      "test error  =  64.90909213369544 percent\n",
      " \n",
      "EarlyStopping counter: 4 out of 12\n",
      "Current Best Accuracy: 0.35818180983716796\n",
      "epoch= 17 \t time= 239.06675505638123 \t loss= 0.365837571545712 \t error= 12.815536399489469 percent\n",
      "test error  =  67.63636361468922 percent\n",
      " \n",
      "EarlyStopping counter: 5 out of 12\n",
      "Current Best Accuracy: 0.35818180983716796\n",
      "epoch= 18 \t time= 251.56314396858215 \t loss= 0.27370015408807585 \t error= 9.281555830853657 percent\n",
      "test error  =  67.27272786877371 percent\n",
      " \n",
      "EarlyStopping counter: 6 out of 12\n",
      "Current Best Accuracy: 0.35818180983716796\n",
      "epoch= 19 \t time= 264.3572099208832 \t loss= 0.18642518251627974 \t error= 6.466021526207044 percent\n",
      "test error  =  66.00000045516275 percent\n",
      " \n",
      "EarlyStopping counter: 7 out of 12\n",
      "Current Best Accuracy: 0.35818180983716796\n",
      "epoch= 20 \t time= 276.8985683917999 \t loss= 0.15629378965721258 \t error= 5.184467961487261 percent\n",
      "test error  =  69.63636441664262 percent\n",
      " \n",
      "EarlyStopping counter: 8 out of 12\n",
      "Current Best Accuracy: 0.35818180983716796\n",
      "epoch= 21 \t time= 288.7216532230377 \t loss= 0.14169892455785743 \t error= 4.834953181951949 percent\n",
      "test error  =  68.00000098618594 percent\n",
      " \n",
      "EarlyStopping counter: 9 out of 12\n",
      "Current Best Accuracy: 0.35818180983716796\n",
      "epoch= 22 \t time= 301.1010055541992 \t loss= 0.13206422581219845 \t error= 4.23301145868394 percent\n",
      "test error  =  66.00000072609295 percent\n",
      " \n",
      "EarlyStopping counter: 10 out of 12\n",
      "Current Best Accuracy: 0.35818180983716796\n",
      "epoch= 23 \t time= 313.5100061893463 \t loss= 0.1035748003446271 \t error= 3.0679625214882265 percent\n",
      "test error  =  66.1818192763762 percent\n",
      " \n",
      "EarlyStopping counter: 11 out of 12\n",
      "Current Best Accuracy: 0.35818180983716796\n",
      "epoch= 24 \t time= 325.8396260738373 \t loss= 0.10606598026498935 \t error= 3.262137296130356 percent\n",
      "test error  =  67.45454587719657 percent\n",
      " \n",
      "EarlyStopping counter: 12 out of 12\n",
      "Current Best Accuracy: 0.35818180983716796\n",
      "Early stopping.....\n"
     ]
    },
    {
     "data": {
      "text/plain": [
       "<All keys matched successfully>"
      ]
     },
     "execution_count": 16,
     "metadata": {},
     "output_type": "execute_result"
    }
   ],
   "source": [
    "start=time.time()\n",
    "\n",
    "early_stopping = EarlyStopping(patience=patience, verbose=True)\n",
    "\n",
    "train_losses = []\n",
    "val_losses = []\n",
    "\n",
    "for epoch in range(epochs):\n",
    "    running_loss = 0\n",
    "    running_error = 0\n",
    "    num_batches = 0\n",
    "    \n",
    "    shuffled_indices=torch.randperm(train_unaug_x.size(0))\n",
    " \n",
    "    for count in range(0, (train_unaug_x.size(0)//bs)*bs, bs):\n",
    "    \n",
    "        optimizer.zero_grad()\n",
    "         \n",
    "        indices=shuffled_indices[count:count+bs]\n",
    "        minibatch_data = train_unaug_x[indices]\n",
    "        minibatch_label = train_unaug_y[indices]\n",
    "\n",
    "        minibatch_data = minibatch_data.to(device)\n",
    "        minibatch_label = minibatch_label.to(device)\n",
    "        \n",
    "        inputs = (minibatch_data - mean)/std\n",
    "        \n",
    "        inputs.requires_grad_()\n",
    "\n",
    "        scores = net(inputs) \n",
    "\n",
    "        loss = criterion(scores, minibatch_label) \n",
    "          \n",
    "        loss.backward()\n",
    "\n",
    "        optimizer.step()\n",
    "    \n",
    "        running_loss += loss.detach().item()\n",
    "        \n",
    "        error = get_error(scores.detach(), minibatch_label)\n",
    "        running_error += error.item()\n",
    "        \n",
    "        num_batches += 1        \n",
    "    \n",
    "    total_loss = running_loss/num_batches\n",
    "    total_error = running_error/num_batches\n",
    "    elapsed = time.time()-start\n",
    "    \n",
    "    test_err = 0\n",
    "    if epoch % 1 == 0:\n",
    "        print('epoch=', epoch, '\\t time=', elapsed, '\\t loss=', total_loss , '\\t error=', total_error*100 , 'percent')\n",
    "        test_err = eval_on_test_set()[0]\n",
    "        print(' ')\n",
    "    \n",
    "    \n",
    "    early_stopping(test_err, net)\n",
    "        \n",
    "    if early_stopping.early_stop:\n",
    "        print(\"Early stopping.....\")\n",
    "        break\n",
    "\n",
    "\n",
    "# load the last checkpoint with the best model\n",
    "net.load_state_dict(torch.load('checkpoints/checkpoint.pt'))"
   ]
  },
  {
   "cell_type": "code",
   "execution_count": 17,
   "id": "de8eca81",
   "metadata": {},
   "outputs": [
    {
     "data": {
      "image/png": "[encoded data removed]",
      "text/plain": [
       "<Figure size 432x288 with 1 Axes>"
      ]
     },
     "metadata": {
      "needs_background": "light"
     },
     "output_type": "display_data"
    }
   ],
   "source": [
    "show(test_x[30])"
   ]
  },
  {
   "cell_type": "markdown",
   "id": "cee1914a",
   "metadata": {},
   "source": [
    "## Show final result on test set"
   ]
  },
  {
   "cell_type": "code",
   "execution_count": 31,
   "id": "ce92ee9b",
   "metadata": {},
   "outputs": [
    {
     "data": {
      "text/plain": [
       "<All keys matched successfully>"
      ]
     },
     "execution_count": 31,
     "metadata": {},
     "output_type": "execute_result"
    }
   ],
   "source": [
    "net.load_state_dict(torch.load('./checkpoints/checkpoint.pt'))"
   ]
  },
  {
   "cell_type": "code",
   "execution_count": 32,
   "id": "a30dffec",
   "metadata": {},
   "outputs": [
    {
     "name": "stdout",
     "output_type": "stream",
     "text": [
      "test error  =  62.54545531489632 percent\n"
     ]
    }
   ],
   "source": [
    "error, y_pred, y_true = eval_on_test_set()"
   ]
  },
  {
   "cell_type": "code",
   "execution_count": 33,
   "id": "bcc79405",
   "metadata": {},
   "outputs": [
    {
     "data": {
      "text/plain": [
       "<module 'utils' from '/home/wei2912/Workspace/Chen-Yiyang/cs4243_project/utils.py'>"
      ]
     },
     "execution_count": 33,
     "metadata": {},
     "output_type": "execute_result"
    }
   ],
   "source": [
    "import importlib\n",
    "import utils\n",
    "importlib.reload(utils)"
   ]
  },
  {
   "cell_type": "code",
   "execution_count": 34,
   "id": "dfbebed9",
   "metadata": {},
   "outputs": [
    {
     "name": "stdout",
     "output_type": "stream",
     "text": [
      "F1 Score : 0.31959380949617633\n",
      "Precision: 0.37035490819965716\n",
      "Recall   : 0.31612711258101334\n"
     ]
    },
    {
     "data": {
      "image/png": "[encoded data removed]",
      "text/plain": [
       "<Figure size 864x504 with 2 Axes>"
      ]
     },
     "metadata": {
      "needs_background": "light"
     },
     "output_type": "display_data"
    }
   ],
   "source": [
    "from utils import show_confusion_matrix, show_eval_metrics\n",
    "\n",
    "show_confusion_matrix(y_pred, y_true)\n",
    "show_eval_metrics(y_pred, y_true)"
   ]
  },
  {
   "cell_type": "markdown",
   "id": "7d1788ae",
   "metadata": {},
   "source": [
    "## Perform Grad-CAM on test instances"
   ]
  },
  {
   "cell_type": "code",
   "execution_count": null,
   "id": "40fd660e",
   "metadata": {},
   "outputs": [],
   "source": [
    "from utils import CLASSES\n",
    "\n",
    "def show_prob(pred_score):\n",
    "    prob = torch.softmax(pred_score.cpu(), dim=1)\n",
    "    p = prob.data.squeeze().numpy()\n",
    "\n",
    "    ft=15\n",
    "    label = CLASSES\n",
    "    #p=p.data.squeeze().numpy()\n",
    "    y_pos = np.arange(len(p))*1.2\n",
    "    target=2\n",
    "    width=0.9\n",
    "    col= 'blue'\n",
    "    #col='darkgreen'\n",
    "\n",
    "    plt.rcdefaults()\n",
    "    fig, ax = plt.subplots()\n",
    "\n",
    "    # the plot\n",
    "    ax.barh(y_pos, p, width , align='center', color=col)\n",
    "\n",
    "    ax.set_xlim([0, 1.3])\n",
    "    #ax.set_ylim([-0.8, len(p)*1.2-1+0.8])\n",
    "\n",
    "    # y label\n",
    "    ax.set_yticks(y_pos)\n",
    "    ax.set_yticklabels(label, fontsize=ft)\n",
    "    ax.invert_yaxis()  \n",
    "    #ax.set_xlabel('Performance')\n",
    "    #ax.set_title('How fast do you want to go today?')\n",
    "\n",
    "    # x label\n",
    "    ax.set_xticklabels([])\n",
    "    ax.set_xticks([])\n",
    "    #x_pos=np.array([0, 0.25 , 0.5 , 0.75 , 1])\n",
    "    #ax.set_xticks(x_pos)\n",
    "    #ax.set_xticklabels( [0, 0.25 , 0.5 , 0.75 , 1] , fontsize=15)\n",
    "\n",
    "    ax.spines['right'].set_visible(False)\n",
    "    ax.spines['top'].set_visible(False)\n",
    "    ax.spines['bottom'].set_visible(False)\n",
    "    ax.spines['left'].set_linewidth(4)\n",
    "\n",
    "\n",
    "    for i in range(len(p)):\n",
    "        str_nb=\"{0:.2f}\".format(p[i])\n",
    "        ax.text( p[i] + 0.05 , y_pos[i] ,str_nb ,\n",
    "                 horizontalalignment='left', verticalalignment='center',\n",
    "                 transform=ax.transData, color= col,fontsize=ft)\n",
    "\n",
    "\n",
    "\n",
    "    plt.show()"
   ]
  },
  {
   "cell_type": "code",
   "execution_count": null,
   "id": "7c41bf07",
   "metadata": {},
   "outputs": [],
   "source": [
    "from skimage.transform import resize\n",
    "import cv2\n",
    "\n",
    "def show_grad_cam(idx, num_channel=512):\n",
    "    # display results\n",
    "    img = test_x[idx]\n",
    "    input = ((img.to(device) - mean) / std).unsqueeze(0)\n",
    "    pred_score = net.forward(input, True)\n",
    "\n",
    "\n",
    "    # get gradients over activation and generate heatmap\n",
    "    pred_label = pred_score.argmax(dim=1)[0]\n",
    "    pred_score[0,pred_label].backward()\n",
    "\n",
    "    # pull the gradients out of the model\n",
    "    gradients = net.get_activations_gradient()\n",
    "\n",
    "    # pool the gradients across the channels\n",
    "    pooled_gradients = torch.mean(gradients, dim=[0, 2, 3])\n",
    "\n",
    "    # get the activations of the last convolutional layer\n",
    "    activations = net.get_activations(input).detach()\n",
    "\n",
    "    # weight the channels by corresponding gradients\n",
    "    for i in range(num_channel):\n",
    "        activations[:, i, :, :] *= pooled_gradients[i]\n",
    "    \n",
    "    # average the channels of the activations\n",
    "    heatmap = torch.mean(activations, dim=1).squeeze().to('cpu')\n",
    "    \n",
    "    # relu on top of the heatmap\n",
    "    # expression (2) in https://arxiv.org/pdf/1610.02391.pdf\n",
    "    heatmap = np.maximum(heatmap, 0)\n",
    "    \n",
    "    # normalize the heatmap\n",
    "    heatmap /= torch.max(heatmap)\n",
    "\n",
    "\n",
    "    # scale the heatmap back to same size as input and generate superposed img\n",
    "    img_size = img.size(1)\n",
    "    heatmap_large = image_resized = resize(heatmap, (img_size, img_size),\n",
    "                       anti_aliasing=True)\n",
    "    #plt.matshow(heatmap_large)\n",
    "\n",
    "    # generate colour map\n",
    "    heatmap_large = np.uint8(255 * heatmap_large)\n",
    "    heatmap_large = cv2.applyColorMap(heatmap_large, cv2.COLORMAP_JET)\n",
    "\n",
    "    # obtain superimposed img\n",
    "    heatmap_large = torch.Tensor(heatmap_large).permute(2,0,1).float() / 255\n",
    "    superimposed_img = torch.Tensor(heatmap_large) * 0.3 + img\n",
    "    superimposed_img = torch.clamp(superimposed_img, max=1)\n",
    "\n",
    "    fig, ax = plt.subplots(nrows = 1, ncols = 3, figsize = (20, 20))\n",
    "    ax[0].imshow(img.permute(1,2,0))\n",
    "    ax[0].set_title(\"Input img\")\n",
    "    ax[1].imshow(heatmap_large.permute(1,2,0))\n",
    "    ax[1].set_title(\"Heatmap\")\n",
    "    ax[2].imshow(superimposed_img.permute(1,2,0))\n",
    "    ax[2].set_title(\"Superimposed img\")\n",
    "\n",
    "    print(\"True label:\", CLASSES[test_y[idx]])\n",
    "    print(\"Pred label:\", CLASSES[pred_label])\n",
    "\n",
    "    show_prob(pred_score)\n"
   ]
  },
  {
   "cell_type": "code",
   "execution_count": null,
   "id": "5b8474dc",
   "metadata": {},
   "outputs": [],
   "source": [
    "idx = np.random.randint(test_x.size(0))\n",
    "show_grad_cam(idx=idx, num_channel=512)"
   ]
  },
  {
   "cell_type": "code",
   "execution_count": null,
   "id": "8eea817a",
   "metadata": {},
   "outputs": [],
   "source": []
  }
 ],
 "metadata": {
  "kernelspec": {
   "display_name": "Python 3 (ipykernel)",
   "language": "python",
   "name": "python3"
  },
  "language_info": {
   "codemirror_mode": {
    "name": "ipython",
    "version": 3
   },
   "file_extension": ".py",
   "mimetype": "text/x-python",
   "name": "python",
   "nbconvert_exporter": "python",
   "pygments_lexer": "ipython3",
   "version": "3.10.4"
  },
  "nbdime-conflicts": {
   "local_diff": [
    {
     "diff": [
      {
       "diff": [
        {
         "key": 0,
         "length": 1,
         "op": "removerange"
        }
       ],
       "key": "version",
       "op": "patch"
      }
     ],
     "key": "language_info",
     "op": "patch"
    }
   ],
   "remote_diff": [
    {
     "diff": [
      {
       "diff": [
        {
         "diff": [
          {
           "key": 2,
           "op": "addrange",
           "valuelist": "8"
          },
          {
           "key": 2,
           "length": 1,
           "op": "removerange"
          }
         ],
         "key": 0,
         "op": "patch"
        }
       ],
       "key": "version",
       "op": "patch"
      }
     ],
     "key": "language_info",
     "op": "patch"
    }
   ]
  }
 },
 "nbformat": 4,
 "nbformat_minor": 5
}
