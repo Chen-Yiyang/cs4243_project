{
 "cells": [
  {
   "cell_type": "code",
   "execution_count": 2,
   "id": "e688d616",
   "metadata": {},
   "outputs": [
    {
     "name": "stderr",
     "output_type": "stream",
     "text": [
      "/Users/yiyang/miniconda3/envs/cv_proj/lib/python3.8/site-packages/tqdm/auto.py:22: TqdmWarning: IProgress not found. Please update jupyter and ipywidgets. See https://ipywidgets.readthedocs.io/en/stable/user_install.html\n",
      "  from .autonotebook import tqdm as notebook_tqdm\n"
     ]
    }
   ],
   "source": [
    "import torch\n",
    "import torch.nn as nn\n",
    "\n",
    "import time\n",
    "\n",
    "import numpy as np\n",
    "import matplotlib.pyplot as plt"
   ]
  },
  {
   "cell_type": "markdown",
   "id": "bc7289a3",
   "metadata": {},
   "source": [
    "## Load data"
   ]
  },
  {
   "cell_type": "code",
   "execution_count": 3,
   "id": "98e625eb",
   "metadata": {},
   "outputs": [],
   "source": [
    "data_path = '../'\n",
    "prefix = 'balan'\n",
    "full_data = torch.load(data_path + prefix + '_data_small.pt')\n",
    "full_label = torch.load(data_path + prefix + '_label.pt')\n",
    "\n",
    "full_size = full_data.size(0)\n"
   ]
  },
  {
   "cell_type": "code",
   "execution_count": 4,
   "id": "134569b2",
   "metadata": {},
   "outputs": [],
   "source": [
    "# TODO: split into training and testing 80%-20%\n",
    "indices = torch.randperm(full_size)\n",
    "train_size = int(full_size * 0.8)\n",
    "\n",
    "train_indices = indices[:train_size]\n",
    "test_indices = indices[train_size:]\n",
    "\n",
    "train_data = full_data[train_indices]\n",
    "train_label = full_label[train_indices]\n",
    "test_data = full_data[test_indices]\n",
    "test_label = full_label[test_indices]"
   ]
  },
  {
   "cell_type": "code",
   "execution_count": 5,
   "id": "e2f4634b",
   "metadata": {},
   "outputs": [],
   "source": [
    "train_data = train_data / 255\n",
    "test_data = test_data / 255"
   ]
  },
  {
   "cell_type": "code",
   "execution_count": 6,
   "id": "3d986f63",
   "metadata": {},
   "outputs": [
    {
     "name": "stdout",
     "output_type": "stream",
     "text": [
      "Training data,  torch.Size([15641, 3, 32, 32]) Type torch.FloatTensor\n",
      "Training label, torch.Size([15641])\n"
     ]
    }
   ],
   "source": [
    "# show size\n",
    "print(\"Training data, \", train_data.size(), \"Type\", train_data.type())\n",
    "print(\"Training label,\", train_label.size())\n"
   ]
  },
  {
   "cell_type": "code",
   "execution_count": 8,
   "id": "2d107db8",
   "metadata": {},
   "outputs": [
    {
     "name": "stdout",
     "output_type": "stream",
     "text": [
      "15641\n",
      "True\n"
     ]
    }
   ],
   "source": [
    "train_data_size = train_data.size(0)\n",
    "print(train_data_size)\n",
    "print(train_data.is_contiguous())"
   ]
  },
  {
   "cell_type": "markdown",
   "id": "70f34455",
   "metadata": {},
   "source": [
    "## Utility Functions\n",
    "- display num param\n",
    "- show image\n",
    "\n",
    "- get error\n",
    "- evaluate on test data"
   ]
  },
  {
   "cell_type": "code",
   "execution_count": 9,
   "id": "e85827a9",
   "metadata": {},
   "outputs": [],
   "source": [
    "# Util func\n",
    "def display_num_param(net):\n",
    "    nb_param = 0\n",
    "    for param in net.parameters():\n",
    "        nb_param += param.numel()\n",
    "    print('There are {} ({:.2f} million) parameters in this neural network'.format(\n",
    "        nb_param, nb_param/1e6)\n",
    "         )"
   ]
  },
  {
   "cell_type": "code",
   "execution_count": 10,
   "id": "f25b41c9",
   "metadata": {},
   "outputs": [],
   "source": [
    "def show(X):\n",
    "    if X.dim() == 3 and X.size(0) == 3:\n",
    "        plt.imshow( np.transpose(  X.numpy() , (1, 2, 0))  )\n",
    "        plt.show()\n",
    "    elif X.dim() == 2:\n",
    "        plt.imshow(   X.numpy() , cmap='gray'  )\n",
    "        plt.show()\n",
    "    else:\n",
    "        print('WRONG TENSOR SIZE')\n"
   ]
  },
  {
   "cell_type": "code",
   "execution_count": 11,
   "id": "f9d76073",
   "metadata": {},
   "outputs": [
    {
     "data": {
      "image/png": "[encoded data removed]",
      "text/plain": [
       "<Figure size 432x288 with 1 Axes>"
      ]
     },
     "metadata": {
      "needs_background": "light"
     },
     "output_type": "display_data"
    }
   ],
   "source": [
    "show(train_data[100])"
   ]
  },
  {
   "cell_type": "code",
   "execution_count": 12,
   "id": "00f2683e",
   "metadata": {},
   "outputs": [],
   "source": [
    "def get_error( scores , labels ):\n",
    "    bs=scores.size(0)\n",
    "    predicted_labels = scores.argmax(dim=1)\n",
    "    indicator = (predicted_labels == labels)\n",
    "    num_matches=indicator.sum()\n",
    "    \n",
    "    return 1-num_matches.float()/bs   "
   ]
  },
  {
   "cell_type": "code",
   "execution_count": 13,
   "id": "2821ed75",
   "metadata": {},
   "outputs": [],
   "source": [
    "def eval_on_test_set():\n",
    "    test_size = test_data.size(0)\n",
    "\n",
    "    running_error=0\n",
    "    num_batches=0\n",
    "\n",
    "    for i in range(0,(test_size//bs)*bs,bs):\n",
    "\n",
    "        minibatch_data =  test_data[i:i+bs]\n",
    "        minibatch_label= test_label[i:i+bs]\n",
    "\n",
    "        inputs = minibatch_data.view(bs,3072)\n",
    "\n",
    "        scores=net( inputs ) \n",
    "\n",
    "        error = get_error( scores , minibatch_label)\n",
    "\n",
    "        running_error += error.item()\n",
    "\n",
    "        num_batches+=1\n",
    "\n",
    "\n",
    "    total_error = running_error/num_batches\n",
    "    print( 'test error  = ', total_error*100 ,'percent')"
   ]
  },
  {
   "cell_type": "markdown",
   "id": "43011e4d",
   "metadata": {},
   "source": [
    "## Build MLP\n",
    "A 3-layer MLP"
   ]
  },
  {
   "cell_type": "code",
   "execution_count": 14,
   "id": "9daccc55",
   "metadata": {},
   "outputs": [],
   "source": [
    "class three_layer_net(nn.Module):\n",
    "\n",
    "    def __init__(self, input_size, hidden_size1, hidden_size2,  output_size):\n",
    "        super(three_layer_net , self).__init__()\n",
    "\n",
    "        self.layer1 = nn.Linear(input_size, hidden_size1)\n",
    "        self.layer2 = nn.Linear(hidden_size1, hidden_size2)\n",
    "        self.layer3 = nn.Linear(hidden_size2, output_size)   \n",
    "        \n",
    "    def forward(self, x):\n",
    "        y       = self.layer1(x)\n",
    "        y_hat   = torch.relu(y)\n",
    "        z       = self.layer2(y_hat)\n",
    "        z_hat   = torch.relu(z)\n",
    "        scores  = self.layer3(z_hat)\n",
    "        \n",
    "        return scores"
   ]
  },
  {
   "cell_type": "code",
   "execution_count": 18,
   "id": "71be6112",
   "metadata": {},
   "outputs": [
    {
     "name": "stdout",
     "output_type": "stream",
     "text": [
      "three_layer_net(\n",
      "  (layer1): Linear(in_features=3072, out_features=500, bias=True)\n",
      "  (layer2): Linear(in_features=500, out_features=500, bias=True)\n",
      "  (layer3): Linear(in_features=500, out_features=10, bias=True)\n",
      ")\n",
      "There are 1792010 (1.79 million) parameters in this neural network\n"
     ]
    }
   ],
   "source": [
    "net=three_layer_net(3072,500,500,10)\n",
    "print(net)\n",
    "display_num_param(net)"
   ]
  },
  {
   "cell_type": "markdown",
   "id": "39f3ced9",
   "metadata": {},
   "source": [
    "## Define Hyper-parameters"
   ]
  },
  {
   "cell_type": "code",
   "execution_count": 19,
   "id": "8a2a71fc",
   "metadata": {},
   "outputs": [],
   "source": [
    "criterion = nn.CrossEntropyLoss()\n",
    "optimizer=torch.optim.SGD( net.parameters() , lr=0.05 )\n",
    "bs= 100"
   ]
  },
  {
   "cell_type": "markdown",
   "id": "46ec7238",
   "metadata": {},
   "source": [
    "## Training"
   ]
  },
  {
   "cell_type": "code",
   "execution_count": 20,
   "id": "3163c2c5",
   "metadata": {},
   "outputs": [
    {
     "name": "stdout",
     "output_type": "stream",
     "text": [
      "epoch= 0 \t time= 2.6154048442840576 \t loss= 2.277675312298995 \t error= 86.26282050823554 percent\n",
      "test error  =  84.56410261300894 percent\n",
      " \n",
      "epoch= 1 \t time= 5.342721939086914 \t loss= 2.2387695205517306 \t error= 83.71153905605658 percent\n",
      "test error  =  84.92307739380078 percent\n",
      " \n",
      "epoch= 2 \t time= 8.069297790527344 \t loss= 2.209441967499562 \t error= 81.67307755121817 percent\n",
      "test error  =  83.20512863305899 percent\n",
      " \n",
      "epoch= 3 \t time= 10.797387838363647 \t loss= 2.184129771513817 \t error= 80.31410280710611 percent\n",
      "test error  =  80.61538506776859 percent\n",
      " \n",
      "epoch= 4 \t time= 13.686994791030884 \t loss= 2.162615881516383 \t error= 79.12820527950922 percent\n",
      "test error  =  81.43589802277393 percent\n",
      " \n",
      "epoch= 5 \t time= 16.522782802581787 \t loss= 2.1400828392077713 \t error= 78.21794874393024 percent\n",
      "test error  =  77.41025655697553 percent\n",
      " \n",
      "epoch= 6 \t time= 19.246445894241333 \t loss= 2.12149170652414 \t error= 77.53846156291473 percent\n",
      "test error  =  78.30769282120926 percent\n",
      " \n",
      "epoch= 7 \t time= 21.969892978668213 \t loss= 2.0924922892680535 \t error= 75.8333336084317 percent\n",
      "test error  =  79.2564109349862 percent\n",
      " \n",
      "epoch= 8 \t time= 24.68857192993164 \t loss= 2.072996594966986 \t error= 75.14743632995166 percent\n",
      "test error  =  77.76923072643768 percent\n",
      " \n",
      "epoch= 9 \t time= 27.40248394012451 \t loss= 2.050042776725231 \t error= 74.20512835184732 percent\n",
      "test error  =  76.46153844319858 percent\n",
      " \n",
      "epoch= 10 \t time= 30.12180805206299 \t loss= 2.035463022115903 \t error= 73.42307716608047 percent\n",
      "test error  =  78.17948750960522 percent\n",
      " \n",
      "epoch= 11 \t time= 32.84202313423157 \t loss= 2.0104457842998014 \t error= 72.62820502122244 percent\n",
      "test error  =  78.12820504873227 percent\n",
      " \n",
      "epoch= 12 \t time= 35.563920974731445 \t loss= 1.9867116373318892 \t error= 71.80769202800897 percent\n",
      "test error  =  76.8461539195134 percent\n",
      " \n",
      "epoch= 13 \t time= 38.2821569442749 \t loss= 1.9645021955172222 \t error= 70.56410217132324 percent\n",
      "test error  =  74.25641035422301 percent\n",
      " \n",
      "epoch= 14 \t time= 41.002845764160156 \t loss= 1.9475552409123151 \t error= 69.3782050640155 percent\n",
      "test error  =  77.12820508541205 percent\n",
      " \n",
      "epoch= 15 \t time= 43.71690893173218 \t loss= 1.9151706580932324 \t error= 68.17307674731964 percent\n",
      "test error  =  76.61538475599045 percent\n",
      " \n",
      "epoch= 16 \t time= 46.43602800369263 \t loss= 1.9003178844085107 \t error= 67.9871794122916 percent\n",
      "test error  =  77.12820508541205 percent\n",
      " \n",
      "epoch= 17 \t time= 49.15350604057312 \t loss= 1.8816438500697796 \t error= 66.871794905418 percent\n",
      "test error  =  73.87179487790817 percent\n",
      " \n",
      "epoch= 18 \t time= 51.87464785575867 \t loss= 1.8571535455874908 \t error= 65.96794842909543 percent\n",
      "test error  =  73.61538456036494 percent\n",
      " \n",
      "epoch= 19 \t time= 54.59378695487976 \t loss= 1.8392527409088917 \t error= 65.14743612362788 percent\n",
      "test error  =  77.02564138632553 percent\n",
      " \n",
      "epoch= 20 \t time= 57.3146767616272 \t loss= 1.8109510151239543 \t error= 64.23717954984079 percent\n",
      "test error  =  75.00000015283243 percent\n",
      " \n",
      "epoch= 21 \t time= 60.03214406967163 \t loss= 1.7944029179903178 \t error= 63.275641088302315 percent\n",
      "test error  =  74.3076925094311 percent\n",
      " \n",
      "epoch= 22 \t time= 62.74987983703613 \t loss= 1.759041686088611 \t error= 61.98717963237029 percent\n",
      "test error  =  74.48717982341083 percent\n",
      " \n",
      "epoch= 23 \t time= 65.46645379066467 \t loss= 1.7360689487212744 \t error= 60.77564102716935 percent\n",
      "test error  =  72.28205188726767 percent\n",
      " \n",
      "epoch= 24 \t time= 68.18170475959778 \t loss= 1.7146744766296484 \t error= 59.49358966870185 percent\n",
      "test error  =  70.76923159452585 percent\n",
      " \n",
      "epoch= 25 \t time= 70.90415096282959 \t loss= 1.7027557484614544 \t error= 59.250000348457924 percent\n",
      "test error  =  73.38461600817166 percent\n",
      " \n",
      "epoch= 26 \t time= 73.62015104293823 \t loss= 1.655226198526529 \t error= 57.26923086704352 percent\n",
      "test error  =  71.02564053657727 percent\n",
      " \n",
      "epoch= 27 \t time= 76.33881783485413 \t loss= 1.6347991014138246 \t error= 57.153846247073936 percent\n",
      "test error  =  74.79487229616214 percent\n",
      " \n",
      "epoch= 28 \t time= 79.06310701370239 \t loss= 1.6221387011882586 \t error= 55.93589742978414 percent\n",
      "test error  =  72.82051275937985 percent\n",
      " \n",
      "epoch= 29 \t time= 81.77981781959534 \t loss= 1.569322135203924 \t error= 53.8653844442123 percent\n",
      "test error  =  78.7692306897579 percent\n",
      " \n"
     ]
    }
   ],
   "source": [
    "start=time.time()\n",
    "\n",
    "for epoch in range(30):\n",
    "    \n",
    "    running_loss=0\n",
    "    running_error=0\n",
    "    num_batches=0\n",
    "    \n",
    "    shuffled_indices=torch.randperm(train_data_size)\n",
    " \n",
    "    for count in range(0, (train_data_size//bs)*bs ,bs):\n",
    "    \n",
    "        # Set the gradients to zeros\n",
    "        optimizer.zero_grad()\n",
    "        \n",
    "        # create a minibatch       \n",
    "        indices=shuffled_indices[count:count+bs]\n",
    "        minibatch_data =  train_data[indices]\n",
    "        minibatch_label=  train_label[indices]\n",
    "        \n",
    "        # reshape the minibatch\n",
    "        inputs = minibatch_data.view(bs,3072)  # to continuous tensor\n",
    "\n",
    "        # tell Pytorch to start tracking all operations that will be done on \"inputs\"\n",
    "        inputs.requires_grad_()\n",
    "\n",
    "        # forward the minibatch through the net \n",
    "        scores=net( inputs ) \n",
    "\n",
    "        # Compute the average of the losses of the data points in the minibatch\n",
    "        loss =  criterion( scores , minibatch_label) \n",
    "        \n",
    "        # backward pass to compute dL/dU, dL/dV and dL/dW   \n",
    "        loss.backward()\n",
    "\n",
    "        # do one step of stochastic gradient descent: U=U-lr(dL/dU), V=V-lr(dL/dU), ...\n",
    "        optimizer.step()\n",
    "        \n",
    "\n",
    "        # START COMPUTING STATS\n",
    "        \n",
    "        # add the loss of this batch to the running loss\n",
    "        running_loss += loss.detach().item()\n",
    "        \n",
    "        # compute the error made on this batch and add it to the running error       \n",
    "        error = get_error( scores.detach() , minibatch_label)\n",
    "        running_error += error.item()\n",
    "        \n",
    "        num_batches+=1        \n",
    "    \n",
    "    \n",
    "    # compute stats for the full training set\n",
    "    total_loss = running_loss/num_batches\n",
    "    total_error = running_error/num_batches\n",
    "    elapsed = time.time()-start\n",
    "    \n",
    "    if epoch%1 == 0:\n",
    "        print('epoch=',epoch, '\\t time=', elapsed, '\\t loss=', total_loss , '\\t error=', total_error*100 ,'percent')\n",
    "        eval_on_test_set() \n",
    "        print(' ')\n",
    "    \n",
    "    \n",
    "        \n",
    "        "
   ]
  },
  {
   "cell_type": "code",
   "execution_count": null,
   "id": "8d00ef4d",
   "metadata": {},
   "outputs": [],
   "source": []
  },
  {
   "cell_type": "code",
   "execution_count": null,
   "id": "d3c700e9",
   "metadata": {},
   "outputs": [],
   "source": []
  }
 ],
 "metadata": {
  "kernelspec": {
   "display_name": "Python 3 (ipykernel)",
   "language": "python",
   "name": "python3"
  },
  "language_info": {
   "codemirror_mode": {
    "name": "ipython",
    "version": 3
   },
   "file_extension": ".py",
   "mimetype": "text/x-python",
   "name": "python",
   "nbconvert_exporter": "python",
   "pygments_lexer": "ipython3",
   "version": "3.8.12"
  }
 },
 "nbformat": 4,
 "nbformat_minor": 5
}
