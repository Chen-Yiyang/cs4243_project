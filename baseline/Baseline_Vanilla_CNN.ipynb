{
 "cells": [
  {
   "cell_type": "code",
   "execution_count": 1,
   "id": "e688d616",
   "metadata": {},
   "outputs": [],
   "source": [
    "import torch\n",
    "import torch.nn as nn\n",
    "\n",
    "import time\n",
    "\n",
    "import numpy as np\n",
    "import matplotlib.pyplot as plt"
   ]
  },
  {
   "cell_type": "markdown",
   "id": "bc7289a3",
   "metadata": {},
   "source": [
    "## Load data"
   ]
  },
  {
   "cell_type": "code",
   "execution_count": 2,
   "id": "98e625eb",
   "metadata": {},
   "outputs": [],
   "source": [
    "data_path = '../'\n",
    "prefix = 'unaug'\n",
    "full_data = torch.load(data_path + prefix + '_data_large.pt')\n",
    "full_label = torch.load(data_path + prefix + '_label.pt')\n",
    "\n",
    "full_size = full_data.size(0)\n",
    "\n"
   ]
  },
  {
   "cell_type": "code",
   "execution_count": 3,
   "id": "134569b2",
   "metadata": {},
   "outputs": [],
   "source": [
    "# TODO: split into training and testing 80%-20%\n",
    "indices = torch.randperm(full_size)\n",
    "train_size = int(full_size * 0.8)\n",
    "\n",
    "train_indices = indices[:train_size]\n",
    "test_indices = indices[train_size:]\n",
    "\n",
    "train_data = full_data[train_indices]\n",
    "train_label = full_label[train_indices]\n",
    "test_data = full_data[test_indices]\n",
    "test_label = full_label[test_indices]"
   ]
  },
  {
   "cell_type": "code",
   "execution_count": 4,
   "id": "e2f4634b",
   "metadata": {},
   "outputs": [],
   "source": [
    "# train_data = train_data / 255\n",
    "# test_data = test_data / 255"
   ]
  },
  {
   "cell_type": "code",
   "execution_count": 5,
   "id": "3d986f63",
   "metadata": {},
   "outputs": [
    {
     "name": "stdout",
     "output_type": "stream",
     "text": [
      "Training data,  torch.Size([15641, 3, 32, 32]) Type torch.ByteTensor\n",
      "Training label, torch.Size([15641])\n"
     ]
    }
   ],
   "source": [
    "# show size\n",
    "print(\"Training data, \", train_data.size(), \"Type\", train_data.type())\n",
    "print(\"Training label,\", train_label.size())\n",
    "\n"
   ]
  },
  {
   "cell_type": "code",
   "execution_count": 6,
   "id": "bbc8e85f",
   "metadata": {},
   "outputs": [
    {
     "data": {
      "text/plain": [
       "torch.Size([15641, 3, 32, 32])"
      ]
     },
     "execution_count": 6,
     "metadata": {},
     "output_type": "execute_result"
    }
   ],
   "source": [
    "train_data.size()"
   ]
  },
  {
   "cell_type": "markdown",
   "id": "1288578f",
   "metadata": {},
   "source": [
    "#Perform augmentations"
   ]
  },
  {
   "cell_type": "code",
   "execution_count": 7,
   "id": "d944839b",
   "metadata": {},
   "outputs": [
    {
     "name": "stderr",
     "output_type": "stream",
     "text": [
      "100%|██████████| 15641/15641 [00:07<00:00, 2135.00it/s]\n"
     ]
    },
    {
     "data": {
      "text/plain": [
       "((46923, 3, 32, 32), (46923,))"
      ]
     },
     "execution_count": 7,
     "metadata": {},
     "output_type": "execute_result"
    }
   ],
   "source": [
    "from tqdm import tqdm\n",
    "from skimage.io import imread, imshow, imsave\n",
    "from skimage.transform import rotate\n",
    "from skimage.util import img_as_ubyte, random_noise\n",
    "from skimage.filters import gaussian\n",
    "\n",
    "all_img = []\n",
    "final_train_x = []\n",
    "final_train_y = []\n",
    "\n",
    "for i in tqdm(range(train_data.shape[0])):\n",
    "    img, label = train_data[i], train_label[i]\n",
    "    all_img.extend([\n",
    "        img,\n",
    "        # img_as_ubyte(rotate(img, angle=45, mode='wrap')),\n",
    "        np.fliplr(img),\n",
    "        # np.flipud(img),\n",
    "        img_as_ubyte(random_noise(train_data[i],var=0.05**2))\n",
    "    ])\n",
    "    final_train_y.extend([train_label[i]] * 3)\n",
    "\n",
    "final_train_x = np.stack(all_img)\n",
    "final_train_y = np.array(final_train_y)\n",
    "final_train_x.shape, final_train_y.shape"
   ]
  },
  {
   "cell_type": "code",
   "execution_count": 8,
   "id": "40f77b82",
   "metadata": {},
   "outputs": [
    {
     "data": {
      "image/png": "[encoded data removed]",
      "text/plain": [
       "<Figure size 1440x1440 with 3 Axes>"
      ]
     },
     "metadata": {
      "needs_background": "light"
     },
     "output_type": "display_data"
    }
   ],
   "source": [
    "fig, ax = plt.subplots(nrows = 1, ncols = 3, figsize = (20, 20))\n",
    "idx = np.random.choice(train_data.shape[0])\n",
    "for i in range(3):\n",
    "    ax[i].imshow(final_train_x[idx*3 + i].T)\n",
    "    ax[i].axis('off')"
   ]
  },
  {
   "cell_type": "code",
   "execution_count": null,
   "id": "898a6ddd",
   "metadata": {},
   "outputs": [],
   "source": [
    "final_train_x = final_train_x / 255\n",
    "test_data = test_data / 255\n",
    "\n",
    "train_data = torch.from_numpy(final_train_x).float()\n",
    "train_label = torch.from_numpy(final_train_y).long()"
   ]
  },
  {
   "cell_type": "code",
   "execution_count": null,
   "id": "7a9fa896",
   "metadata": {},
   "outputs": [],
   "source": [
    "print(train_data.shape, train_label.shape)"
   ]
  },
  {
   "cell_type": "code",
   "execution_count": null,
   "id": "2d107db8",
   "metadata": {},
   "outputs": [],
   "source": [
    "train_data_size = train_data.size(0)\n",
    "print(train_data_size)\n",
    "print(train_data.is_contiguous())"
   ]
  },
  {
   "cell_type": "code",
   "execution_count": null,
   "id": "a80d83fe",
   "metadata": {},
   "outputs": [],
   "source": []
  },
  {
   "cell_type": "markdown",
   "id": "70f34455",
   "metadata": {},
   "source": [
    "## Utility Functions\n",
    "- display num param\n",
    "- show image\n",
    "\n",
    "- get error\n",
    "- evaluate on test data"
   ]
  },
  {
   "cell_type": "code",
   "execution_count": null,
   "id": "e85827a9",
   "metadata": {},
   "outputs": [],
   "source": [
    "# Util func\n",
    "def display_num_param(net):\n",
    "    nb_param = 0\n",
    "    for param in net.parameters():\n",
    "        nb_param += param.numel()\n",
    "    print('There are {} ({:.2f} million) parameters in this neural network'.format(\n",
    "        nb_param, nb_param/1e6)\n",
    "         )"
   ]
  },
  {
   "cell_type": "code",
   "execution_count": null,
   "id": "f25b41c9",
   "metadata": {},
   "outputs": [],
   "source": [
    "def show(X):\n",
    "    if X.dim() == 3 and X.size(0) == 3:\n",
    "        plt.imshow( np.transpose(  X.numpy() , (1, 2, 0))  )\n",
    "        plt.show()\n",
    "    elif X.dim() == 2:\n",
    "        plt.imshow(   X.numpy() , cmap='gray'  )\n",
    "        plt.show()\n",
    "    else:\n",
    "        print('WRONG TENSOR SIZE')\n"
   ]
  },
  {
   "cell_type": "code",
   "execution_count": null,
   "id": "f9d76073",
   "metadata": {},
   "outputs": [],
   "source": [
    "show(train_data[10])\n",
    "print(train_label[10])"
   ]
  },
  {
   "cell_type": "code",
   "execution_count": null,
   "id": "00f2683e",
   "metadata": {},
   "outputs": [],
   "source": [
    "def get_error( scores , labels ):\n",
    "    bs=scores.size(0)\n",
    "    predicted_labels = scores.argmax(dim=1)\n",
    "    indicator = (predicted_labels == labels)\n",
    "    num_matches=indicator.sum()\n",
    "    \n",
    "    return 1-num_matches.float()/bs   "
   ]
  },
  {
   "cell_type": "code",
   "execution_count": null,
   "id": "2821ed75",
   "metadata": {},
   "outputs": [],
   "source": [
    "def eval_on_test_set():\n",
    "    test_size = test_data.size(0)\n",
    "\n",
    "    running_error=0\n",
    "    num_batches=0\n",
    "\n",
    "    for i in range(0,(test_size//bs)*bs,bs):\n",
    "\n",
    "        minibatch_data =  test_data[i:i+bs]\n",
    "        minibatch_label= test_label[i:i+bs]\n",
    "\n",
    "        minibatch_data=minibatch_data.to(device)\n",
    "        minibatch_label=minibatch_label.to(device)\n",
    "\n",
    "        inputs = (minibatch_data - mean)/std\n",
    "\n",
    "        scores=net( inputs ) \n",
    "\n",
    "        error = get_error( scores , minibatch_label)\n",
    "\n",
    "        running_error += error.item()\n",
    "\n",
    "        num_batches+=1\n",
    "\n",
    "\n",
    "    total_error = running_error/num_batches\n",
    "    print( 'test error  = ', total_error*100 ,'percent')"
   ]
  },
  {
   "cell_type": "markdown",
   "id": "43011e4d",
   "metadata": {},
   "source": [
    "## Build CNN\n",
    "A VGG-liked CNN Structure"
   ]
  },
  {
   "cell_type": "code",
   "execution_count": null,
   "id": "9daccc55",
   "metadata": {},
   "outputs": [],
   "source": [
    "class VGG_convnet(nn.Module):\n",
    "\n",
    "    def __init__(self):\n",
    "\n",
    "        super(VGG_convnet, self).__init__()\n",
    "\n",
    "        # block 1:         3 x 32 x 32 --> 64 x 16 x 16        \n",
    "        self.conv1a = nn.Conv2d(3,   64,  kernel_size=3, padding=1 )\n",
    "        self.conv1b = nn.Conv2d(64,  64,  kernel_size=3, padding=1 )\n",
    "        self.pool1  = nn.MaxPool2d(2,2)\n",
    "\n",
    "        # block 2:         64 x 16 x 16 --> 128 x 8 x 8\n",
    "        self.conv2a = nn.Conv2d(64,  128, kernel_size=3, padding=1 )\n",
    "        self.conv2b = nn.Conv2d(128, 128, kernel_size=3, padding=1 )\n",
    "        self.pool2  = nn.MaxPool2d(2,2)\n",
    "\n",
    "        # block 3:         128 x 8 x 8 --> 256 x 4 x 4        \n",
    "        self.conv3a = nn.Conv2d(128, 256, kernel_size=3, padding=1 )\n",
    "        self.conv3b = nn.Conv2d(256, 256, kernel_size=3, padding=1 )\n",
    "        self.pool3  = nn.MaxPool2d(2,2)\n",
    "        \n",
    "        #block 4:          256 x 4 x 4 --> 512 x 2 x 2\n",
    "        self.conv4a = nn.Conv2d(256, 512, kernel_size=3, padding=1 )\n",
    "        self.pool4  = nn.MaxPool2d(2,2)\n",
    "\n",
    "        # linear layers:   512 x 2 x 2 --> 2048 --> 4096 --> 4096 --> 10\n",
    "        self.linear1 = nn.Linear(2048, 4096)\n",
    "        self.linear2 = nn.Linear(4096,4096)\n",
    "        self.linear3 = nn.Linear(4096, 10)\n",
    "\n",
    "\n",
    "    def forward(self, x):\n",
    "\n",
    "        # block 1:         3 x 32 x 32 --> 64 x 16 x 16\n",
    "        x = self.conv1a(x)\n",
    "        x = torch.relu(x)\n",
    "        x = self.conv1b(x)\n",
    "        x = torch.relu(x)\n",
    "        x = self.pool1(x)\n",
    "\n",
    "        # block 2:         64 x 16 x 16 --> 128 x 8 x 8\n",
    "        x = self.conv2a(x)\n",
    "        x = torch.relu(x)\n",
    "        x = self.conv2b(x)\n",
    "        x = torch.relu(x)\n",
    "        x = self.pool2(x)\n",
    "\n",
    "        # block 3:         128 x 8 x 8 --> 256 x 4 x 4\n",
    "        x = self.conv3a(x)\n",
    "        x = torch.relu(x)\n",
    "        x = self.conv3b(x)\n",
    "        x = torch.relu(x)\n",
    "        x = self.pool3(x)\n",
    "\n",
    "        #block 4:          256 x 4 x 4 --> 512 x 2 x 2\n",
    "        x = self.conv4a(x)\n",
    "        x = torch.relu(x)\n",
    "        x = self.pool4(x)\n",
    "\n",
    "        # linear layers:   512 x 2 x 2 --> 2048 --> 4096 --> 4096 --> 10\n",
    "        x = x.view(-1, 2048)\n",
    "        x = self.linear1(x)\n",
    "        x = torch.relu(x)\n",
    "        x = self.linear2(x)\n",
    "        x = torch.relu(x)\n",
    "        x = self.linear3(x) \n",
    "        \n",
    "        return x"
   ]
  },
  {
   "cell_type": "code",
   "execution_count": null,
   "id": "71be6112",
   "metadata": {},
   "outputs": [],
   "source": [
    "net=VGG_convnet()\n",
    "print(net)\n",
    "display_num_param(net)"
   ]
  },
  {
   "cell_type": "code",
   "execution_count": null,
   "id": "291678ca",
   "metadata": {},
   "outputs": [],
   "source": [
    "device= torch.device(\"cuda\")\n",
    "#device= torch.device(\"cpu\")\n",
    "print(device)"
   ]
  },
  {
   "cell_type": "code",
   "execution_count": null,
   "id": "0e7b2780",
   "metadata": {},
   "outputs": [],
   "source": [
    "mean= train_data.mean()"
   ]
  },
  {
   "cell_type": "code",
   "execution_count": null,
   "id": "fd615b74",
   "metadata": {},
   "outputs": [],
   "source": [
    "std= train_data.std()"
   ]
  },
  {
   "cell_type": "code",
   "execution_count": null,
   "id": "610e3e20",
   "metadata": {},
   "outputs": [],
   "source": [
    "net = net.to(device)\n",
    "\n",
    "mean = mean.to(device)\n",
    "\n",
    "std = std.to(device)"
   ]
  },
  {
   "cell_type": "code",
   "execution_count": null,
   "id": "11c3fe5f",
   "metadata": {},
   "outputs": [],
   "source": [
    "mean, std"
   ]
  },
  {
   "cell_type": "markdown",
   "id": "39f3ced9",
   "metadata": {},
   "source": [
    "## Define Hyper-parameters"
   ]
  },
  {
   "cell_type": "code",
   "execution_count": null,
   "id": "8a2a71fc",
   "metadata": {},
   "outputs": [],
   "source": [
    "criterion = nn.CrossEntropyLoss()\n",
    "optimizer=torch.optim.Adam( net.parameters() , lr=1e-3 )\n",
    "bs= 50"
   ]
  },
  {
   "cell_type": "markdown",
   "id": "46ec7238",
   "metadata": {},
   "source": [
    "## Training"
   ]
  },
  {
   "cell_type": "code",
   "execution_count": null,
   "id": "3163c2c5",
   "metadata": {},
   "outputs": [],
   "source": [
    "start=time.time()\n",
    "\n",
    "for epoch in range(20):\n",
    "    running_loss=0\n",
    "    running_error=0\n",
    "    num_batches=0\n",
    "    \n",
    "    shuffled_indices=torch.randperm(train_data_size)\n",
    " \n",
    "    for count in range(0, (train_data_size//bs)*bs, bs):\n",
    "    \n",
    "        # Set the gradients to zeros\n",
    "        optimizer.zero_grad()\n",
    "        \n",
    "        # create a minibatch       \n",
    "        indices=shuffled_indices[count:count+bs]\n",
    "        minibatch_data =  train_data[indices]\n",
    "        minibatch_label=  train_label[indices]\n",
    "\n",
    "        minibatch_data=minibatch_data.to(device)\n",
    "        minibatch_label=minibatch_label.to(device)\n",
    "        \n",
    "        # normalize the minibatch (this is the only difference compared to before!)\n",
    "        inputs = (minibatch_data - mean)/std\n",
    "        \n",
    "        # tell Pytorch to start tracking all operations that will be done on \"inputs\"\n",
    "        inputs.requires_grad_()\n",
    "\n",
    "        # forward the minibatch through the net \n",
    "        scores=net( inputs ) \n",
    "\n",
    "        # Compute the average of the losses of the data points in the minibatch\n",
    "        loss =  criterion( scores , minibatch_label) \n",
    "        \n",
    "        # backward pass to compute dL/dU, dL/dV and dL/dW   \n",
    "        loss.backward()\n",
    "\n",
    "        # do one step of stochastic gradient descent: U=U-lr(dL/dU), V=V-lr(dL/dU), ...\n",
    "        optimizer.step()\n",
    "        \n",
    "\n",
    "        # START COMPUTING STATS\n",
    "        \n",
    "        # add the loss of this batch to the running loss\n",
    "        running_loss += loss.detach().item()\n",
    "        \n",
    "        # compute the error made on this batch and add it to the running error       \n",
    "        error = get_error( scores.detach() , minibatch_label)\n",
    "        running_error += error.item()\n",
    "        \n",
    "        num_batches+=1        \n",
    "    \n",
    "    \n",
    "    # compute stats for the full training set\n",
    "    total_loss = running_loss/num_batches\n",
    "    total_error = running_error/num_batches\n",
    "    elapsed = time.time()-start\n",
    "    \n",
    "    if epoch % 1 == 0:\n",
    "        print('epoch=',epoch, '\\t time=', elapsed, '\\t loss=', total_loss , '\\t error=', total_error*100 ,'percent')\n",
    "        eval_on_test_set() \n",
    "        print(' ')\n",
    "    \n",
    "    \n",
    "        \n",
    "        "
   ]
  },
  {
   "cell_type": "code",
   "execution_count": null,
   "id": "8d00ef4d",
   "metadata": {},
   "outputs": [],
   "source": [
    "show(test_data[30])"
   ]
  },
  {
   "cell_type": "code",
   "execution_count": null,
   "id": "d3c700e9",
   "metadata": {},
   "outputs": [],
   "source": []
  }
 ],
 "metadata": {
  "kernelspec": {
   "display_name": "Python 3 (ipykernel)",
   "language": "python",
   "name": "python3"
  },
  "language_info": {
   "codemirror_mode": {
    "name": "ipython",
    "version": 3
   },
   "file_extension": ".py",
   "mimetype": "text/x-python",
   "name": "python",
   "nbconvert_exporter": "python",
   "pygments_lexer": "ipython3",
   "version": "3.9.6"
  }
 },
 "nbformat": 4,
 "nbformat_minor": 5
}
