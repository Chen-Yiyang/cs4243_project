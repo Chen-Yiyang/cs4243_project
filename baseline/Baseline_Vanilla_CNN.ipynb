{
 "cells": [
  {
   "cell_type": "code",
   "execution_count": 1,
   "id": "e688d616",
   "metadata": {},
   "outputs": [],
   "source": [
    "import torch\n",
    "import torch.nn as nn\n",
    "\n",
    "import time\n",
    "\n",
    "import numpy as np\n",
    "import matplotlib.pyplot as plt"
   ]
  },
  {
   "cell_type": "markdown",
   "id": "bc7289a3",
   "metadata": {},
   "source": [
    "## Load data"
   ]
  },
  {
   "cell_type": "code",
   "execution_count": 2,
   "id": "98e625eb",
   "metadata": {},
   "outputs": [],
   "source": [
    "data_path = '../'\n",
    "prefix = 'balan'\n",
    "full_data = torch.load(data_path + prefix + '_data_small.pt')\n",
    "full_label = torch.load(data_path + prefix + '_label.pt')\n",
    "\n",
    "full_size = full_data.size(0)\n",
    "\n"
   ]
  },
  {
   "cell_type": "code",
   "execution_count": 3,
   "id": "134569b2",
   "metadata": {},
   "outputs": [],
   "source": [
    "# TODO: split into training and testing 80%-20%\n",
    "indices = torch.randperm(full_size)\n",
    "train_size = int(full_size * 0.8)\n",
    "\n",
    "train_indices = indices[:train_size]\n",
    "test_indices = indices[train_size:]\n",
    "\n",
    "train_data = full_data[train_indices]\n",
    "train_label = full_label[train_indices]\n",
    "test_data = full_data[test_indices]\n",
    "test_label = full_label[test_indices]"
   ]
  },
  {
   "cell_type": "code",
   "execution_count": 4,
   "id": "e2f4634b",
   "metadata": {},
   "outputs": [],
   "source": [
    "train_data = train_data / 255\n",
    "test_data = test_data / 255"
   ]
  },
  {
   "cell_type": "code",
   "execution_count": 5,
   "id": "3d986f63",
   "metadata": {},
   "outputs": [
    {
     "name": "stdout",
     "output_type": "stream",
     "text": [
      "Training data,  torch.Size([15641, 3, 32, 32]) Type torch.FloatTensor\n",
      "Training label, torch.Size([15641])\n"
     ]
    }
   ],
   "source": [
    "# show size\n",
    "print(\"Training data, \", train_data.size(), \"Type\", train_data.type())\n",
    "print(\"Training label,\", train_label.size())\n",
    "\n"
   ]
  },
  {
   "cell_type": "code",
   "execution_count": 6,
   "id": "bbc8e85f",
   "metadata": {},
   "outputs": [
    {
     "data": {
      "text/plain": [
       "torch.Size([15641, 3, 32, 32])"
      ]
     },
     "execution_count": 6,
     "metadata": {},
     "output_type": "execute_result"
    }
   ],
   "source": [
    "train_data.size()"
   ]
  },
  {
   "cell_type": "code",
   "execution_count": 7,
   "id": "2d107db8",
   "metadata": {},
   "outputs": [
    {
     "name": "stdout",
     "output_type": "stream",
     "text": [
      "15641\n",
      "True\n"
     ]
    }
   ],
   "source": [
    "train_data_size = train_data.size(0)\n",
    "print(train_data_size)\n",
    "print(train_data.is_contiguous())"
   ]
  },
  {
   "cell_type": "markdown",
   "id": "70f34455",
   "metadata": {},
   "source": [
    "## Utility Functions\n",
    "- display num param\n",
    "- show image\n",
    "\n",
    "- get error\n",
    "- evaluate on test data"
   ]
  },
  {
   "cell_type": "code",
   "execution_count": 8,
   "id": "e85827a9",
   "metadata": {},
   "outputs": [],
   "source": [
    "# Util func\n",
    "def display_num_param(net):\n",
    "    nb_param = 0\n",
    "    for param in net.parameters():\n",
    "        nb_param += param.numel()\n",
    "    print('There are {} ({:.2f} million) parameters in this neural network'.format(\n",
    "        nb_param, nb_param/1e6)\n",
    "         )"
   ]
  },
  {
   "cell_type": "code",
   "execution_count": 9,
   "id": "f25b41c9",
   "metadata": {},
   "outputs": [],
   "source": [
    "def show(X):\n",
    "    if X.dim() == 3 and X.size(0) == 3:\n",
    "        plt.imshow( np.transpose(  X.numpy() , (1, 2, 0))  )\n",
    "        plt.show()\n",
    "    elif X.dim() == 2:\n",
    "        plt.imshow(   X.numpy() , cmap='gray'  )\n",
    "        plt.show()\n",
    "    else:\n",
    "        print('WRONG TENSOR SIZE')\n"
   ]
  },
  {
   "cell_type": "code",
   "execution_count": 10,
   "id": "f9d76073",
   "metadata": {},
   "outputs": [
    {
     "data": {
      "image/png": "[encoded data removed]",
      "text/plain": [
       "<Figure size 432x288 with 1 Axes>"
      ]
     },
     "metadata": {
      "needs_background": "light"
     },
     "output_type": "display_data"
    },
    {
     "name": "stdout",
     "output_type": "stream",
     "text": [
      "tensor(3)\n"
     ]
    }
   ],
   "source": [
    "show(train_data[10])\n",
    "print(train_label[10])"
   ]
  },
  {
   "cell_type": "code",
   "execution_count": 11,
   "id": "00f2683e",
   "metadata": {},
   "outputs": [],
   "source": [
    "def get_error( scores , labels ):\n",
    "    bs=scores.size(0)\n",
    "    predicted_labels = scores.argmax(dim=1)\n",
    "    indicator = (predicted_labels == labels)\n",
    "    num_matches=indicator.sum()\n",
    "    \n",
    "    return 1-num_matches.float()/bs   "
   ]
  },
  {
   "cell_type": "code",
   "execution_count": 12,
   "id": "2821ed75",
   "metadata": {},
   "outputs": [],
   "source": [
    "def eval_on_test_set():\n",
    "    test_size = test_data.size(0)\n",
    "\n",
    "    running_error=0\n",
    "    num_batches=0\n",
    "\n",
    "    for i in range(0,(test_size//bs)*bs,bs):\n",
    "\n",
    "        minibatch_data =  test_data[i:i+bs]\n",
    "        minibatch_label= test_label[i:i+bs]\n",
    "\n",
    "        minibatch_data=minibatch_data.to(device)\n",
    "        minibatch_label=minibatch_label.to(device)\n",
    "\n",
    "        inputs = (minibatch_data - mean)/std\n",
    "\n",
    "        scores=net( inputs ) \n",
    "\n",
    "        error = get_error( scores , minibatch_label)\n",
    "\n",
    "        running_error += error.item()\n",
    "\n",
    "        num_batches+=1\n",
    "\n",
    "\n",
    "    total_error = running_error/num_batches\n",
    "    print( 'test error  = ', total_error*100 ,'percent')"
   ]
  },
  {
   "cell_type": "markdown",
   "id": "43011e4d",
   "metadata": {},
   "source": [
    "## Build CNN\n",
    "A VGG-liked CNN Structure"
   ]
  },
  {
   "cell_type": "code",
   "execution_count": 13,
   "id": "9daccc55",
   "metadata": {},
   "outputs": [],
   "source": [
    "class VGG_convnet(nn.Module):\n",
    "\n",
    "    def __init__(self):\n",
    "\n",
    "        super(VGG_convnet, self).__init__()\n",
    "\n",
    "        # block 1:         3 x 32 x 32 --> 64 x 16 x 16        \n",
    "        self.conv1a = nn.Conv2d(3,   64,  kernel_size=3, padding=1 )\n",
    "        self.conv1b = nn.Conv2d(64,  64,  kernel_size=3, padding=1 )\n",
    "        self.pool1  = nn.MaxPool2d(2,2)\n",
    "\n",
    "        # block 2:         64 x 16 x 16 --> 128 x 8 x 8\n",
    "        self.conv2a = nn.Conv2d(64,  128, kernel_size=3, padding=1 )\n",
    "        self.conv2b = nn.Conv2d(128, 128, kernel_size=3, padding=1 )\n",
    "        self.pool2  = nn.MaxPool2d(2,2)\n",
    "\n",
    "        # block 3:         128 x 8 x 8 --> 256 x 4 x 4        \n",
    "        self.conv3a = nn.Conv2d(128, 256, kernel_size=3, padding=1 )\n",
    "        self.conv3b = nn.Conv2d(256, 256, kernel_size=3, padding=1 )\n",
    "        self.pool3  = nn.MaxPool2d(2,2)\n",
    "        \n",
    "        #block 4:          256 x 4 x 4 --> 512 x 2 x 2\n",
    "        self.conv4a = nn.Conv2d(256, 512, kernel_size=3, padding=1 )\n",
    "        self.pool4  = nn.MaxPool2d(2,2)\n",
    "\n",
    "        # linear layers:   512 x 2 x 2 --> 2048 --> 4096 --> 4096 --> 10\n",
    "        self.linear1 = nn.Linear(2048, 4096)\n",
    "        self.linear2 = nn.Linear(4096,4096)\n",
    "        self.linear3 = nn.Linear(4096, 10)\n",
    "\n",
    "\n",
    "    def forward(self, x):\n",
    "\n",
    "        # block 1:         3 x 32 x 32 --> 64 x 16 x 16\n",
    "        x = self.conv1a(x)\n",
    "        x = torch.relu(x)\n",
    "        x = self.conv1b(x)\n",
    "        x = torch.relu(x)\n",
    "        x = self.pool1(x)\n",
    "\n",
    "        # block 2:         64 x 16 x 16 --> 128 x 8 x 8\n",
    "        x = self.conv2a(x)\n",
    "        x = torch.relu(x)\n",
    "        x = self.conv2b(x)\n",
    "        x = torch.relu(x)\n",
    "        x = self.pool2(x)\n",
    "\n",
    "        # block 3:         128 x 8 x 8 --> 256 x 4 x 4\n",
    "        x = self.conv3a(x)\n",
    "        x = torch.relu(x)\n",
    "        x = self.conv3b(x)\n",
    "        x = torch.relu(x)\n",
    "        x = self.pool3(x)\n",
    "\n",
    "        #block 4:          256 x 4 x 4 --> 512 x 2 x 2\n",
    "        x = self.conv4a(x)\n",
    "        x = torch.relu(x)\n",
    "        x = self.pool4(x)\n",
    "\n",
    "        # linear layers:   512 x 2 x 2 --> 2048 --> 4096 --> 4096 --> 10\n",
    "        x = x.view(-1, 2048)\n",
    "        x = self.linear1(x)\n",
    "        x = torch.relu(x)\n",
    "        x = self.linear2(x)\n",
    "        x = torch.relu(x)\n",
    "        x = self.linear3(x) \n",
    "        \n",
    "        return x"
   ]
  },
  {
   "cell_type": "code",
   "execution_count": 14,
   "id": "71be6112",
   "metadata": {},
   "outputs": [
    {
     "name": "stdout",
     "output_type": "stream",
     "text": [
      "VGG_convnet(\n",
      "  (conv1a): Conv2d(3, 64, kernel_size=(3, 3), stride=(1, 1), padding=(1, 1))\n",
      "  (conv1b): Conv2d(64, 64, kernel_size=(3, 3), stride=(1, 1), padding=(1, 1))\n",
      "  (pool1): MaxPool2d(kernel_size=2, stride=2, padding=0, dilation=1, ceil_mode=False)\n",
      "  (conv2a): Conv2d(64, 128, kernel_size=(3, 3), stride=(1, 1), padding=(1, 1))\n",
      "  (conv2b): Conv2d(128, 128, kernel_size=(3, 3), stride=(1, 1), padding=(1, 1))\n",
      "  (pool2): MaxPool2d(kernel_size=2, stride=2, padding=0, dilation=1, ceil_mode=False)\n",
      "  (conv3a): Conv2d(128, 256, kernel_size=(3, 3), stride=(1, 1), padding=(1, 1))\n",
      "  (conv3b): Conv2d(256, 256, kernel_size=(3, 3), stride=(1, 1), padding=(1, 1))\n",
      "  (pool3): MaxPool2d(kernel_size=2, stride=2, padding=0, dilation=1, ceil_mode=False)\n",
      "  (conv4a): Conv2d(256, 512, kernel_size=(3, 3), stride=(1, 1), padding=(1, 1))\n",
      "  (pool4): MaxPool2d(kernel_size=2, stride=2, padding=0, dilation=1, ceil_mode=False)\n",
      "  (linear1): Linear(in_features=2048, out_features=4096, bias=True)\n",
      "  (linear2): Linear(in_features=4096, out_features=4096, bias=True)\n",
      "  (linear3): Linear(in_features=4096, out_features=10, bias=True)\n",
      ")\n",
      "There are 27540554 (27.54 million) parameters in this neural network\n"
     ]
    }
   ],
   "source": [
    "net=VGG_convnet()\n",
    "print(net)\n",
    "display_num_param(net)"
   ]
  },
  {
   "cell_type": "code",
   "execution_count": 15,
   "id": "291678ca",
   "metadata": {},
   "outputs": [
    {
     "name": "stdout",
     "output_type": "stream",
     "text": [
      "cuda\n"
     ]
    }
   ],
   "source": [
    "device= torch.device(\"cuda\")\n",
    "#device= torch.device(\"cpu\")\n",
    "print(device)"
   ]
  },
  {
   "cell_type": "code",
   "execution_count": 16,
   "id": "0e7b2780",
   "metadata": {},
   "outputs": [],
   "source": [
    "mean= train_data.mean()"
   ]
  },
  {
   "cell_type": "code",
   "execution_count": 17,
   "id": "fd615b74",
   "metadata": {},
   "outputs": [],
   "source": [
    "std= train_data.std()"
   ]
  },
  {
   "cell_type": "code",
   "execution_count": 18,
   "id": "610e3e20",
   "metadata": {},
   "outputs": [],
   "source": [
    "net = net.to(device)\n",
    "\n",
    "mean = mean.to(device)\n",
    "\n",
    "std = std.to(device)"
   ]
  },
  {
   "cell_type": "code",
   "execution_count": 19,
   "id": "11c3fe5f",
   "metadata": {},
   "outputs": [
    {
     "data": {
      "text/plain": [
       "(tensor(0.4345, device='cuda:0'), tensor(0.2693, device='cuda:0'))"
      ]
     },
     "execution_count": 19,
     "metadata": {},
     "output_type": "execute_result"
    }
   ],
   "source": [
    "mean, std"
   ]
  },
  {
   "cell_type": "markdown",
   "id": "39f3ced9",
   "metadata": {},
   "source": [
    "## Define Hyper-parameters"
   ]
  },
  {
   "cell_type": "code",
   "execution_count": 20,
   "id": "8a2a71fc",
   "metadata": {},
   "outputs": [],
   "source": [
    "criterion = nn.CrossEntropyLoss()\n",
    "optimizer=torch.optim.Adam( net.parameters() , lr=1e-3 )\n",
    "bs= 50"
   ]
  },
  {
   "cell_type": "markdown",
   "id": "46ec7238",
   "metadata": {},
   "source": [
    "## Training"
   ]
  },
  {
   "cell_type": "code",
   "execution_count": 21,
   "id": "3163c2c5",
   "metadata": {},
   "outputs": [
    {
     "name": "stdout",
     "output_type": "stream",
     "text": [
      "epoch= 0 \t time= 7.481000185012817 \t loss= 2.2455332493170714 \t error= 86.87179518433717 percent\n",
      "test error  =  84.76923138667377 percent\n",
      " \n",
      "epoch= 1 \t time= 13.597999334335327 \t loss= 2.1516776188061786 \t error= 83.20512844201846 percent\n",
      "test error  =  80.48717967974835 percent\n",
      " \n",
      "epoch= 2 \t time= 19.70200252532959 \t loss= 2.1010084465528145 \t error= 80.95512854365202 percent\n",
      "test error  =  80.256410745474 percent\n",
      " \n",
      "epoch= 3 \t time= 25.80400037765503 \t loss= 2.0455437894815054 \t error= 77.91025676788428 percent\n",
      "test error  =  77.30769293430524 percent\n",
      " \n",
      "epoch= 4 \t time= 31.916001081466675 \t loss= 1.9764735924127774 \t error= 73.96794937742061 percent\n",
      "test error  =  72.61538536120685 percent\n",
      " \n",
      "epoch= 5 \t time= 38.07601261138916 \t loss= 1.9105132332979105 \t error= 71.32051321558464 percent\n",
      "test error  =  72.76923144475008 percent\n",
      " \n",
      "epoch= 6 \t time= 44.22301268577576 \t loss= 1.844022350051464 \t error= 68.23717991893108 percent\n",
      "test error  =  70.20512910989615 percent\n",
      " \n",
      "epoch= 7 \t time= 50.37301278114319 \t loss= 1.7691193643288734 \t error= 65.55769321246025 percent\n",
      "test error  =  68.64102635628137 percent\n",
      " \n",
      "epoch= 8 \t time= 56.49301218986511 \t loss= 1.6866758175385304 \t error= 62.65384709605804 percent\n",
      "test error  =  69.3076932277435 percent\n",
      " \n",
      "epoch= 9 \t time= 62.99901247024536 \t loss= 1.5912191993915117 \t error= 59.019231567016014 percent\n",
      "test error  =  67.23077029753955 percent\n",
      " \n",
      "epoch= 10 \t time= 69.22301626205444 \t loss= 1.4783243796764276 \t error= 54.08974465651389 percent\n",
      "test error  =  66.30769303211798 percent\n",
      " \n",
      "epoch= 11 \t time= 75.59401273727417 \t loss= 1.358757852934874 \t error= 49.69230886453238 percent\n",
      "test error  =  66.46153934490985 percent\n",
      " \n",
      "epoch= 12 \t time= 81.75701332092285 \t loss= 1.1996701726546655 \t error= 43.80128345428369 percent\n",
      "test error  =  66.41025696045313 percent\n",
      " \n",
      "epoch= 13 \t time= 87.94001269340515 \t loss= 1.0557438924144475 \t error= 38.14102692099718 percent\n",
      "test error  =  65.97435948176262 percent\n",
      " \n",
      "epoch= 14 \t time= 94.15487599372864 \t loss= 0.8953750569086808 \t error= 32.557693849771454 percent\n",
      "test error  =  67.15384675906255 percent\n",
      " \n",
      "epoch= 15 \t time= 100.30987405776978 \t loss= 0.7523588285996363 \t error= 27.256412020860576 percent\n",
      "test error  =  66.53846211922473 percent\n",
      " \n",
      "epoch= 16 \t time= 106.86487460136414 \t loss= 0.6129320664092516 \t error= 22.01923301968819 percent\n",
      "test error  =  64.97435974769104 percent\n",
      " \n",
      "epoch= 17 \t time= 113.03787517547607 \t loss= 0.5128311680582089 \t error= 17.871797199432667 percent\n",
      "test error  =  68.76923174430163 percent\n",
      " \n",
      "epoch= 18 \t time= 119.1898741722107 \t loss= 0.4631977930951577 \t error= 16.378207485645248 percent\n",
      "test error  =  67.3589751506463 percent\n",
      " \n",
      "epoch= 19 \t time= 125.53787684440613 \t loss= 0.37287343532229084 \t error= 12.685899818554901 percent\n",
      "test error  =  68.17948757073819 percent\n",
      " \n"
     ]
    }
   ],
   "source": [
    "start=time.time()\n",
    "\n",
    "for epoch in range(20):\n",
    "    running_loss=0\n",
    "    running_error=0\n",
    "    num_batches=0\n",
    "    \n",
    "    shuffled_indices=torch.randperm(train_data_size)\n",
    " \n",
    "    for count in range(0, (train_data_size//bs)*bs ,bs):\n",
    "    \n",
    "        # Set the gradients to zeros\n",
    "        optimizer.zero_grad()\n",
    "        \n",
    "        # create a minibatch       \n",
    "        indices=shuffled_indices[count:count+bs]\n",
    "        minibatch_data =  train_data[indices]\n",
    "        minibatch_label=  train_label[indices]\n",
    "\n",
    "        minibatch_data=minibatch_data.to(device)\n",
    "        minibatch_label=minibatch_label.to(device)\n",
    "        \n",
    "        # normalize the minibatch (this is the only difference compared to before!)\n",
    "        inputs = (minibatch_data - mean)/std\n",
    "        \n",
    "        # tell Pytorch to start tracking all operations that will be done on \"inputs\"\n",
    "        inputs.requires_grad_()\n",
    "\n",
    "        # forward the minibatch through the net \n",
    "        scores=net( inputs ) \n",
    "\n",
    "        # Compute the average of the losses of the data points in the minibatch\n",
    "        loss =  criterion( scores , minibatch_label) \n",
    "        \n",
    "        # backward pass to compute dL/dU, dL/dV and dL/dW   \n",
    "        loss.backward()\n",
    "\n",
    "        # do one step of stochastic gradient descent: U=U-lr(dL/dU), V=V-lr(dL/dU), ...\n",
    "        optimizer.step()\n",
    "        \n",
    "\n",
    "        # START COMPUTING STATS\n",
    "        \n",
    "        # add the loss of this batch to the running loss\n",
    "        running_loss += loss.detach().item()\n",
    "        \n",
    "        # compute the error made on this batch and add it to the running error       \n",
    "        error = get_error( scores.detach() , minibatch_label)\n",
    "        running_error += error.item()\n",
    "        \n",
    "        num_batches+=1        \n",
    "    \n",
    "    \n",
    "    # compute stats for the full training set\n",
    "    total_loss = running_loss/num_batches\n",
    "    total_error = running_error/num_batches\n",
    "    elapsed = time.time()-start\n",
    "    \n",
    "    if epoch%1 == 0:\n",
    "        print('epoch=',epoch, '\\t time=', elapsed, '\\t loss=', total_loss , '\\t error=', total_error*100 ,'percent')\n",
    "        eval_on_test_set() \n",
    "        print(' ')\n",
    "    \n",
    "    \n",
    "        \n",
    "        "
   ]
  },
  {
   "cell_type": "code",
   "execution_count": 70,
   "id": "8d00ef4d",
   "metadata": {},
   "outputs": [
    {
     "data": {
      "image/png": "[encoded data removed]",
      "text/plain": [
       "<Figure size 432x288 with 1 Axes>"
      ]
     },
     "metadata": {
      "needs_background": "light"
     },
     "output_type": "display_data"
    }
   ],
   "source": [
    "show(test_data[30])"
   ]
  },
  {
   "cell_type": "code",
   "execution_count": null,
   "id": "d3c700e9",
   "metadata": {},
   "outputs": [],
   "source": []
  }
 ],
 "metadata": {
  "kernelspec": {
   "display_name": "Python 3 (ipykernel)",
   "language": "python",
   "name": "python3"
  },
  "language_info": {
   "codemirror_mode": {
    "name": "ipython",
    "version": 3
   },
   "file_extension": ".py",
   "mimetype": "text/x-python",
   "name": "python",
   "nbconvert_exporter": "python",
   "pygments_lexer": "ipython3",
   "version": "3.9.6"
  }
 },
 "nbformat": 4,
 "nbformat_minor": 5
}
