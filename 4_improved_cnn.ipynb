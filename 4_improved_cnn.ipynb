{
 "cells": [
  {
   "cell_type": "code",
   "execution_count": null,
   "id": "14b6c920",
   "metadata": {},
   "outputs": [],
   "source": [
    "if \"google.colab\" in str(get_ipython()):\n",
    "    from google.colab import drive\n",
    "    import os\n",
    "    drive.mount(\"/content/gdrive\")\n",
    "    os.chdir(\"/content/gdrive/My Drive/CS4243 Project/temp\")\n",
    "    !pwd\n",
    "    %pip install -q ipywidgets\n",
    "    %pip install -q -r requirements_colab.txt\n",
    "else:\n",
    "    %pip install -q -r requirements.txt\n",
    "\n",
    "# may need to restart the kernel after installing new packages"
   ]
  },
  {
   "cell_type": "markdown",
   "id": "dc216220",
   "metadata": {},
   "source": [
    "# Improved Model (EfficientNet-B0)"
   ]
  },
  {
   "cell_type": "code",
   "execution_count": null,
   "id": "70814c94",
   "metadata": {},
   "outputs": [],
   "source": [
    "%reset\n",
    "\n",
    "import torch\n",
    "import torch.nn as nn\n",
    "\n",
    "import numpy as np"
   ]
  },
  {
   "cell_type": "code",
   "execution_count": null,
   "id": "02363c73",
   "metadata": {},
   "outputs": [],
   "source": [
    "device = torch.device(\"cuda:0\" if torch.cuda.is_available() else \"cpu\")\n",
    "device"
   ]
  },
  {
   "cell_type": "code",
   "execution_count": null,
   "id": "434674a9",
   "metadata": {},
   "outputs": [],
   "source": [
    "from utils import load_tensor\n",
    "\n",
    "train_x, train_y = load_tensor(\"unaug\", \"128\", device)\n",
    "test_x, test_y = load_tensor(\"test\", \"128\", device)\n",
    "\n",
    "train_x.size(), train_y.size()"
   ]
  },
  {
   "cell_type": "code",
   "execution_count": null,
   "id": "a5e341af",
   "metadata": {},
   "outputs": [],
   "source": [
    "from utils import render_2d\n",
    "\n",
    "idx = np.random.choice(train_x.size(0))\n",
    "render_2d(train_x.cpu()[idx])"
   ]
  },
  {
   "cell_type": "markdown",
   "id": "6c715f5b",
   "metadata": {},
   "source": [
    "## Build CNN\n",
    "\n",
    "A baseline EfficientNet architecture"
   ]
  },
  {
   "cell_type": "code",
   "execution_count": null,
   "id": "e8abd832",
   "metadata": {},
   "outputs": [],
   "source": [
    "from torchvision import models, transforms\n",
    "\n",
    "class EfficientNet(nn.Module):\n",
    "    def __init__(self):\n",
    "        super(EfficientNet, self).__init__()\n",
    "        self.layers = nn.Sequential(\n",
    "            # see https://pytorch.org/vision/stable/models.html for normalisation\n",
    "            transforms.Normalize(mean=[0.485, 0.456, 0.406], std=[0.229, 0.224, 0.225]),\n",
    "            models.efficientnet_b0(pretrained=True).train(),\n",
    "            nn.ReLU(),\n",
    "            nn.Linear(1000, 10)\n",
    "        )\n",
    "    \n",
    "    def forward(self, x):\n",
    "        for layer in self.layers:\n",
    "            x = layer(x)\n",
    "        return x"
   ]
  },
  {
   "cell_type": "code",
   "execution_count": null,
   "id": "53f4556c",
   "metadata": {},
   "outputs": [],
   "source": [
    "from utils import count_num_params\n",
    "\n",
    "net = EfficientNet()\n",
    "print(f\"{count_num_params(net):,}\")\n",
    "net"
   ]
  },
  {
   "cell_type": "markdown",
   "id": "461532ae",
   "metadata": {},
   "source": [
    "### Training"
   ]
  },
  {
   "cell_type": "code",
   "execution_count": null,
   "id": "469e8977",
   "metadata": {},
   "outputs": [],
   "source": [
    "from utils import plot_experiments, run_experiments, save_results\n",
    "\n",
    "def init_func():\n",
    "    net = EfficientNet().to(device)\n",
    "    criterion = nn.CrossEntropyLoss()\n",
    "    optimizer = torch.optim.AdamW(net.parameters(), lr=1e-4)\n",
    "\n",
    "    return (net, criterion, optimizer)\n",
    "\n",
    "df_unaug = run_experiments(init_func, (train_x, train_y), (test_x, test_y), (3, 64, 64))\n",
    "save_results(df_unaug, \"efficientnet\", \"unaug\", \"64\")"
   ]
  },
  {
   "cell_type": "code",
   "execution_count": null,
   "id": "157f220f",
   "metadata": {},
   "outputs": [],
   "source": [
    "plot_experiments(df_unaug)"
   ]
  },
  {
   "cell_type": "code",
   "execution_count": null,
   "id": "ce92ee9b",
   "metadata": {},
   "outputs": [],
   "source": [
    "from utils import load_checkpoint, eval_test_accuracy, show_confusion_matrix, show_eval_metrics\n",
    "\n",
    "net = EfficientNet()\n",
    "load_checkpoint(net, \"35894f38\") # to be manually updated\n",
    "\n",
    "accuracy, pred_y, true_y = eval_test_accuracy(net, (test_x.cpu(), test_y.cpu()), (3, 64, 64))\n",
    "\n",
    "show_confusion_matrix(pred_y, true_y)\n",
    "show_eval_metrics(pred_y, true_y)"
   ]
  },
  {
   "cell_type": "markdown",
   "id": "461532ae",
   "metadata": {},
   "source": [
    "### Training (with augmented dataset)"
   ]
  },
  {
   "cell_type": "code",
   "execution_count": null,
   "id": "eb9367e0",
   "metadata": {},
   "outputs": [],
   "source": [
    "from utils import load_tensor\n",
    "\n",
    "train_x, train_y = load_tensor(\"balan\", \"64\", device)\n",
    "train_x.size(), train_y.size()"
   ]
  },
  {
   "cell_type": "code",
   "execution_count": null,
   "id": "a5e341af",
   "metadata": {},
   "outputs": [],
   "source": [
    "from utils import render_2d\n",
    "\n",
    "idx = np.random.choice(train_x.size(0))\n",
    "render_2d(train_x.cpu()[idx])"
   ]
  },
  {
   "cell_type": "code",
   "execution_count": null,
   "id": "469e8977",
   "metadata": {},
   "outputs": [],
   "source": [
    "from utils import plot_experiments, run_experiments, save_results\n",
    "\n",
    "def init_func():\n",
    "    net = EfficientNet().to(device)\n",
    "    criterion = nn.CrossEntropyLoss()\n",
    "    optimizer = torch.optim.AdamW(net.parameters(), lr=1e-4)\n",
    "\n",
    "    return (net, criterion, optimizer)\n",
    "\n",
    "df_balan = run_experiments(init_func, (train_x, train_y), (test_x, test_y), (3, 64, 64))\n",
    "save_results(df_balan, \"efficientnet\", \"balan\", \"64\")"
   ]
  },
  {
   "cell_type": "code",
   "execution_count": null,
   "id": "157f220f",
   "metadata": {},
   "outputs": [],
   "source": [
    "plot_experiments(df_balan)"
   ]
  },
  {
   "cell_type": "code",
   "execution_count": null,
   "id": "ce92ee9b",
   "metadata": {},
   "outputs": [],
   "source": [
    "from utils import load_checkpoint, eval_test_accuracy, show_confusion_matrix, show_eval_metrics\n",
    "\n",
    "net = EfficientNet()\n",
    "load_checkpoint(net, \"35894f38\") # to be manually updated\n",
    "\n",
    "accuracy, pred_y, true_y = eval_test_accuracy(net, (test_x.cpu(), test_y.cpu()), (3, 64, 64))\n",
    "\n",
    "show_confusion_matrix(pred_y, true_y)\n",
    "show_eval_metrics(pred_y, true_y)"
   ]
  }
 ],
 "metadata": {
  "kernelspec": {
   "display_name": "Python 3 (ipykernel)",
   "language": "python",
   "name": "python3"
  },
  "language_info": {
   "codemirror_mode": {
    "name": "ipython",
    "version": 3
   },
   "file_extension": ".py",
   "mimetype": "text/x-python",
   "name": "python",
   "nbconvert_exporter": "python",
   "pygments_lexer": "ipython3",
   "version": "3.10.4"
  },
  "nbdime-conflicts": {
   "local_diff": [
    {
     "diff": [
      {
       "diff": [
        {
         "key": 0,
         "length": 1,
         "op": "removerange"
        }
       ],
       "key": "version",
       "op": "patch"
      }
     ],
     "key": "language_info",
     "op": "patch"
    }
   ],
   "remote_diff": [
    {
     "diff": [
      {
       "diff": [
        {
         "diff": [
          {
           "key": 2,
           "op": "addrange",
           "valuelist": "8"
          },
          {
           "key": 2,
           "length": 1,
           "op": "removerange"
          }
         ],
         "key": 0,
         "op": "patch"
        }
       ],
       "key": "version",
       "op": "patch"
      }
     ],
     "key": "language_info",
     "op": "patch"
    }
   ]
  }
 },
 "nbformat": 4,
 "nbformat_minor": 5
}
