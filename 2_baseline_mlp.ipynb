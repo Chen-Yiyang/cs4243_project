{
 "cells": [
  {
   "cell_type": "code",
   "execution_count": 1,
   "id": "14b6c920",
   "metadata": {},
   "outputs": [
    {
     "name": "stdout",
     "output_type": "stream",
     "text": [
      "Note: you may need to restart the kernel to use updated packages.\n"
     ]
    }
   ],
   "source": [
    "if \"google.colab\" in str(get_ipython()):\n",
    "    from google.colab import drive\n",
    "    import os\n",
    "    drive.mount(\"/content/gdrive\")\n",
    "    os.chdir(\"/content/gdrive/My Drive/CS4243 Project/temp\")\n",
    "    !pwd\n",
    "    %pip install -q ipywidgets\n",
    "    %pip install -q -r requirements_colab.txt\n",
    "else:\n",
    "    %pip install -q -r requirements.txt\n",
    "\n",
    "# may need to restart the kernel after installing new packages"
   ]
  },
  {
   "cell_type": "markdown",
   "id": "dc216220",
   "metadata": {},
   "source": [
    "# Baseline (Multi-Layer Perceptron)"
   ]
  },
  {
   "cell_type": "code",
   "execution_count": 2,
   "id": "70814c94",
   "metadata": {},
   "outputs": [],
   "source": [
    "%reset\n",
    "\n",
    "import torch\n",
    "import torch.nn as nn\n",
    "\n",
    "import time\n",
    "\n",
    "import numpy as np\n",
    "import matplotlib.pyplot as plt\n",
    "\n",
    "from utils import load_tensor"
   ]
  },
  {
   "cell_type": "code",
   "execution_count": 3,
   "id": "434674a9",
   "metadata": {},
   "outputs": [
    {
     "data": {
      "text/plain": [
       "(torch.Size([5500, 3, 32, 32]), 'torch.FloatTensor', torch.Size([5500]))"
      ]
     },
     "execution_count": 3,
     "metadata": {},
     "output_type": "execute_result"
    }
   ],
   "source": [
    "train_unaug_x, train_unaug_y = load_tensor(\"unaug\", \"32\")\n",
    "test_x, test_y = load_tensor(\"test\", \"32\")\n",
    "\n",
    "train_unaug_x.size(), train_unaug_x.type(), train_unaug_y.size()"
   ]
  },
  {
   "cell_type": "code",
   "execution_count": 4,
   "id": "a5e341af",
   "metadata": {},
   "outputs": [
    {
     "data": {
      "image/png": "[encoded data removed]",
      "text/plain": [
       "<Figure size 432x288 with 1 Axes>"
      ]
     },
     "metadata": {
      "needs_background": "light"
     },
     "output_type": "display_data"
    }
   ],
   "source": [
    "from utils import display_num_param, show, get_error\n",
    "\n",
    "show(train_unaug_x[100])"
   ]
  },
  {
   "cell_type": "markdown",
   "id": "b13f4fc6",
   "metadata": {},
   "source": [
    "## Build MLP\n",
    "\n",
    "A 3-layer MLP"
   ]
  },
  {
   "cell_type": "code",
   "execution_count": 5,
   "id": "43dff40f",
   "metadata": {},
   "outputs": [],
   "source": [
    "class three_layer_net(nn.Module):\n",
    "\n",
    "    def __init__(self, input_size, hidden_size1, hidden_size2,  output_size):\n",
    "        super(three_layer_net , self).__init__()\n",
    "\n",
    "        self.layer1 = nn.Linear(input_size, hidden_size1)\n",
    "        self.layer2 = nn.Linear(hidden_size1, hidden_size2)\n",
    "        self.layer3 = nn.Linear(hidden_size2, output_size)   \n",
    "        \n",
    "    def forward(self, x):\n",
    "        y       = self.layer1(x)\n",
    "        y_hat   = torch.relu(y)\n",
    "        z       = self.layer2(y_hat)\n",
    "        z_hat   = torch.relu(z)\n",
    "        scores  = self.layer3(z_hat)\n",
    "        \n",
    "        return scores"
   ]
  },
  {
   "cell_type": "code",
   "execution_count": 6,
   "id": "7cbc16a9",
   "metadata": {},
   "outputs": [
    {
     "name": "stdout",
     "output_type": "stream",
     "text": [
      "three_layer_net(\n",
      "  (layer1): Linear(in_features=3072, out_features=500, bias=True)\n",
      "  (layer2): Linear(in_features=500, out_features=500, bias=True)\n",
      "  (layer3): Linear(in_features=500, out_features=10, bias=True)\n",
      ")\n",
      "There are 1792010 (1.79 million) parameters in this neural network\n"
     ]
    }
   ],
   "source": [
    "net=three_layer_net(3072,500,500,10)\n",
    "print(net)\n",
    "display_num_param(net)"
   ]
  },
  {
   "cell_type": "markdown",
   "id": "bc878d49",
   "metadata": {},
   "source": [
    "### Define Hyper-parameters"
   ]
  },
  {
   "cell_type": "code",
   "execution_count": 7,
   "id": "73a401c8",
   "metadata": {},
   "outputs": [],
   "source": [
    "criterion = nn.CrossEntropyLoss()\n",
    "optimizer=torch.optim.SGD( net.parameters() , lr=0.05 )\n",
    "bs= 100"
   ]
  },
  {
   "cell_type": "markdown",
   "id": "83beb234",
   "metadata": {},
   "source": [
    "### Training"
   ]
  },
  {
   "cell_type": "code",
   "execution_count": 11,
   "id": "a20b5416",
   "metadata": {},
   "outputs": [],
   "source": [
    "def eval_on_test_set():\n",
    "    test_size = test_x.size(0)\n",
    "\n",
    "    running_error=0\n",
    "    num_batches=0\n",
    "\n",
    "    for i in range(0,(test_size//bs)*bs,bs):\n",
    "\n",
    "        minibatch_data =  test_x[i:i+bs]\n",
    "        minibatch_label= test_y[i:i+bs]\n",
    "\n",
    "        inputs = minibatch_data.view(bs,3072)\n",
    "\n",
    "        scores=net( inputs ) \n",
    "\n",
    "        error = get_error( scores , minibatch_label)\n",
    "\n",
    "        running_error += error.item()\n",
    "\n",
    "        num_batches+=1\n",
    "\n",
    "\n",
    "    total_error = running_error/num_batches\n",
    "    print( 'test error  = ', total_error*100 ,'percent')"
   ]
  },
  {
   "cell_type": "code",
   "execution_count": 12,
   "id": "aa785850",
   "metadata": {},
   "outputs": [
    {
     "name": "stdout",
     "output_type": "stream",
     "text": [
      "epoch= 0 \t time= 0.9480693340301514 \t loss= 1.776455241983587 \t error= 62.581818645650685 percent\n",
      "test error  =  71.16666734218597 percent\n",
      " \n",
      "epoch= 1 \t time= 1.7873270511627197 \t loss= 1.7788475253365257 \t error= 62.436363588679924 percent\n",
      "test error  =  76.16666754086813 percent\n",
      " \n",
      "epoch= 2 \t time= 2.918158531188965 \t loss= 1.7780145428397438 \t error= 63.018182407725945 percent\n",
      "test error  =  71.99999988079071 percent\n",
      " \n",
      "epoch= 3 \t time= 3.9500441551208496 \t loss= 1.7381556229157882 \t error= 60.30909126455134 percent\n",
      "test error  =  75.16666650772095 percent\n",
      " \n",
      "epoch= 4 \t time= 4.895110845565796 \t loss= 1.751868759502064 \t error= 62.109090848402545 percent\n",
      "test error  =  74.83333349227905 percent\n",
      " \n",
      "epoch= 5 \t time= 5.834079027175903 \t loss= 1.7246435685591264 \t error= 60.12727303938432 percent\n",
      "test error  =  75.3333330154419 percent\n",
      " \n",
      "epoch= 6 \t time= 6.992476463317871 \t loss= 1.7294599468057805 \t error= 60.58181795206937 percent\n",
      "test error  =  70.83333432674408 percent\n",
      " \n",
      "epoch= 7 \t time= 8.090025186538696 \t loss= 1.6914251912723888 \t error= 58.63636396147987 percent\n",
      "test error  =  75.16666750113168 percent\n",
      " \n",
      "epoch= 8 \t time= 9.15559196472168 \t loss= 1.6888452985069968 \t error= 58.909090757369995 percent\n",
      "test error  =  77.33333309491476 percent\n",
      " \n",
      "epoch= 9 \t time= 10.109192848205566 \t loss= 1.7019420645453713 \t error= 59.60000048984181 percent\n",
      "test error  =  77.49999960263571 percent\n",
      " \n",
      "epoch= 10 \t time= 11.001508474349976 \t loss= 1.6745669516650112 \t error= 58.96363605152477 percent\n",
      "test error  =  74.50000047683716 percent\n",
      " \n",
      "epoch= 11 \t time= 12.096228837966919 \t loss= 1.6439561583779074 \t error= 57.54545428536155 percent\n",
      "test error  =  76.49999956289926 percent\n",
      " \n",
      "epoch= 12 \t time= 13.043087482452393 \t loss= 1.6893135287544945 \t error= 59.436364065517076 percent\n",
      "test error  =  74.33333396911621 percent\n",
      " \n",
      "epoch= 13 \t time= 14.13371753692627 \t loss= 1.636260013146834 \t error= 58.181819048794836 percent\n",
      "test error  =  73.50000043710074 percent\n",
      " \n",
      "epoch= 14 \t time= 15.110738515853882 \t loss= 1.6110315951434049 \t error= 56.50909120386297 percent\n",
      "test error  =  69.8333332935969 percent\n",
      " \n",
      "epoch= 15 \t time= 15.907520055770874 \t loss= 1.5981769865209405 \t error= 56.16363633762707 percent\n",
      "test error  =  73.16666642824808 percent\n",
      " \n",
      "epoch= 16 \t time= 16.872992515563965 \t loss= 1.598902544108304 \t error= 55.581817952069365 percent\n",
      "test error  =  75.50000051657358 percent\n",
      " \n",
      "epoch= 17 \t time= 17.916193962097168 \t loss= 1.5865461414510553 \t error= 56.05454531582919 percent\n",
      "test error  =  75.3333330154419 percent\n",
      " \n",
      "epoch= 18 \t time= 19.028405904769897 \t loss= 1.5586868134411898 \t error= 53.94545457579872 percent\n",
      "test error  =  72.33333388964334 percent\n",
      " \n",
      "epoch= 19 \t time= 20.136672258377075 \t loss= 1.5619103648445822 \t error= 54.600000489841804 percent\n",
      "test error  =  73.66666793823242 percent\n",
      " \n",
      "epoch= 20 \t time= 21.145249366760254 \t loss= 1.549545082178983 \t error= 53.527272939682 percent\n",
      "test error  =  69.9999988079071 percent\n",
      " \n",
      "epoch= 21 \t time= 22.251559734344482 \t loss= 1.518015653436834 \t error= 52.21818154508418 percent\n",
      "test error  =  71.33333285649618 percent\n",
      " \n",
      "epoch= 22 \t time= 23.209208488464355 \t loss= 1.5334188721396707 \t error= 54.254545190117575 percent\n",
      "test error  =  72.99999992052713 percent\n",
      " \n",
      "epoch= 23 \t time= 24.205673456192017 \t loss= 1.4853993134065109 \t error= 51.58181829886003 percent\n",
      "test error  =  71.33333384990692 percent\n",
      " \n",
      "epoch= 24 \t time= 25.30662751197815 \t loss= 1.4778032758019186 \t error= 51.30909085273743 percent\n",
      "test error  =  73.50000143051147 percent\n",
      " \n",
      "epoch= 25 \t time= 26.380775928497314 \t loss= 1.463379396091808 \t error= 49.70909107815136 percent\n",
      "test error  =  81.16666575272879 percent\n",
      " \n",
      "epoch= 26 \t time= 27.52933168411255 \t loss= 1.5016164649616588 \t error= 50.74545480988243 percent\n",
      "test error  =  74.83333448568979 percent\n",
      " \n",
      "epoch= 27 \t time= 28.69147825241089 \t loss= 1.4720091472972523 \t error= 50.672727064652875 percent\n",
      "test error  =  70.6666668256124 percent\n",
      " \n",
      "epoch= 28 \t time= 29.80954933166504 \t loss= 1.439156623320146 \t error= 49.98181863264604 percent\n",
      "test error  =  77.3333340883255 percent\n",
      " \n",
      "epoch= 29 \t time= 30.967634916305542 \t loss= 1.4369834661483765 \t error= 49.01818199591203 percent\n",
      "test error  =  78.33333313465118 percent\n",
      " \n"
     ]
    }
   ],
   "source": [
    "start=time.time()\n",
    "\n",
    "for epoch in range(30):\n",
    "    \n",
    "    running_loss=0\n",
    "    running_error=0\n",
    "    num_batches=0\n",
    "    \n",
    "    shuffled_indices=torch.randperm(train_unaug_x.size(0))\n",
    " \n",
    "    for count in range(0, (train_unaug_x.size(0)//bs)*bs ,bs):\n",
    "    \n",
    "        # Set the gradients to zeros\n",
    "        optimizer.zero_grad()\n",
    "        \n",
    "        # create a minibatch       \n",
    "        indices=shuffled_indices[count:count+bs]\n",
    "        minibatch_x =  train_unaug_x[indices]\n",
    "        minibatch_y =  train_unaug_y[indices]\n",
    "        \n",
    "        # reshape the minibatch\n",
    "        inputs = minibatch_x.view(bs,3072)  # to continuous tensor\n",
    "\n",
    "        # tell Pytorch to start tracking all operations that will be done on \"inputs\"\n",
    "        inputs.requires_grad_()\n",
    "\n",
    "        # forward the minibatch through the net \n",
    "        scores=net( inputs ) \n",
    "\n",
    "        # Compute the average of the losses of the data points in the minibatch\n",
    "        loss = criterion(scores, minibatch_y) \n",
    "        \n",
    "        # backward pass to compute dL/dU, dL/dV and dL/dW   \n",
    "        loss.backward()\n",
    "\n",
    "        # do one step of stochastic gradient descent: U=U-lr(dL/dU), V=V-lr(dL/dU), ...\n",
    "        optimizer.step()\n",
    "        \n",
    "\n",
    "        # START COMPUTING STATS\n",
    "        \n",
    "        # add the loss of this batch to the running loss\n",
    "        running_loss += loss.detach().item()\n",
    "        \n",
    "        # compute the error made on this batch and add it to the running error\n",
    "        error = get_error( scores.detach() , minibatch_y)\n",
    "        running_error += error.item()\n",
    "        \n",
    "        num_batches+=1        \n",
    "    \n",
    "    \n",
    "    # compute stats for the full training set\n",
    "    total_loss = running_loss/num_batches\n",
    "    total_error = running_error/num_batches\n",
    "    elapsed = time.time()-start\n",
    "    \n",
    "    if epoch%1 == 0:\n",
    "        print('epoch=',epoch, '\\t time=', elapsed, '\\t loss=', total_loss , '\\t error=', total_error*100 ,'percent')\n",
    "        eval_on_test_set() \n",
    "        print(' ')"
   ]
  },
  {
   "cell_type": "code",
   "execution_count": null,
   "id": "73b47b01",
   "metadata": {},
   "outputs": [],
   "source": []
  }
 ],
 "metadata": {
  "kernelspec": {
   "display_name": "Python 3 (ipykernel)",
   "language": "python",
   "name": "python3"
  },
  "language_info": {
   "codemirror_mode": {
    "name": "ipython",
    "version": 3
   },
   "file_extension": ".py",
   "mimetype": "text/x-python",
   "name": "python",
   "nbconvert_exporter": "python",
   "pygments_lexer": "ipython3",
   "version": "3.10.4"
  },
  "nbdime-conflicts": {
   "local_diff": [
    {
     "diff": [
      {
       "diff": [
        {
         "key": 0,
         "length": 1,
         "op": "removerange"
        }
       ],
       "key": "version",
       "op": "patch"
      }
     ],
     "key": "language_info",
     "op": "patch"
    }
   ],
   "remote_diff": [
    {
     "diff": [
      {
       "diff": [
        {
         "diff": [
          {
           "key": 2,
           "op": "addrange",
           "valuelist": "8"
          },
          {
           "key": 2,
           "length": 1,
           "op": "removerange"
          }
         ],
         "key": 0,
         "op": "patch"
        }
       ],
       "key": "version",
       "op": "patch"
      }
     ],
     "key": "language_info",
     "op": "patch"
    }
   ]
  }
 },
 "nbformat": 4,
 "nbformat_minor": 5
}
